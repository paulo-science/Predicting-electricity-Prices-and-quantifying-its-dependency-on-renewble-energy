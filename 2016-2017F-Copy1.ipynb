{
 "cells": [
  {
   "cell_type": "code",
   "execution_count": 1,
   "metadata": {
    "executionInfo": {
     "elapsed": 1677,
     "status": "ok",
     "timestamp": 1690980429852,
     "user": {
      "displayName": "Paulo Da Silva",
      "userId": "03066742735330604402"
     },
     "user_tz": -60
    },
    "id": "VgzmsaKJxCcf"
   },
   "outputs": [],
   "source": [
    "#Importing Libraries needed to run ANN model\n",
    "\n",
    "import numpy as np\n",
    "import pandas as pd\n",
    "import matplotlib.pyplot as plt\n",
    "from sklearn.impute import SimpleImputer\n",
    "from sklearn.preprocessing import minmax_scale, normalize\n",
    "import seaborn as sn\n",
    "import datetime\n",
    "%matplotlib inline"
   ]
  },
  {
   "cell_type": "code",
   "execution_count": 2,
   "metadata": {
    "executionInfo": {
     "elapsed": 2233,
     "status": "ok",
     "timestamp": 1690980434558,
     "user": {
      "displayName": "Paulo Da Silva",
      "userId": "03066742735330604402"
     },
     "user_tz": -60
    },
    "id": "Zz5hJ0m3xMuk"
   },
   "outputs": [],
   "source": [
    "#Importing machine learning library\n",
    "\n",
    "import tensorflow as ts"
   ]
  },
  {
   "cell_type": "code",
   "execution_count": 3,
   "metadata": {
    "executionInfo": {
     "elapsed": 3,
     "status": "ok",
     "timestamp": 1690980436714,
     "user": {
      "displayName": "Paulo Da Silva",
      "userId": "03066742735330604402"
     },
     "user_tz": -60
    },
    "id": "GQllu7aOCzwP"
   },
   "outputs": [],
   "source": [
    "#Importing machine learning library\n",
    "\n",
    "from tensorflow import keras"
   ]
  },
  {
   "cell_type": "code",
   "execution_count": 4,
   "metadata": {
    "executionInfo": {
     "elapsed": 5,
     "status": "ok",
     "timestamp": 1690980439452,
     "user": {
      "displayName": "Paulo Da Silva",
      "userId": "03066742735330604402"
     },
     "user_tz": -60
    },
    "id": "k-K6orWMDF_S"
   },
   "outputs": [],
   "source": [
    "#Creating file path to read file\n",
    "\n",
    "csv_file_path ='Table2014_2023F.csv'"
   ]
  },
  {
   "cell_type": "code",
   "execution_count": 5,
   "metadata": {
    "executionInfo": {
     "elapsed": 1362,
     "status": "ok",
     "timestamp": 1690980443412,
     "user": {
      "displayName": "Paulo Da Silva",
      "userId": "03066742735330604402"
     },
     "user_tz": -60
    },
    "id": "2iMvDSzyDGB1"
   },
   "outputs": [],
   "source": [
    "#Reading the csv file with reduced features and ready for the model and assigning variable name\n",
    "\n",
    "Table=pd.read_csv(csv_file_path)"
   ]
  },
  {
   "cell_type": "code",
   "execution_count": 6,
   "metadata": {
    "colab": {
     "base_uri": "https://localhost:8080/"
    },
    "executionInfo": {
     "elapsed": 4,
     "status": "ok",
     "timestamp": 1690980446270,
     "user": {
      "displayName": "Paulo Da Silva",
      "userId": "03066742735330604402"
     },
     "user_tz": -60
    },
    "id": "E-0EFKPbDGEY",
    "outputId": "cf68fbd4-71f0-4d66-da53-b65846420c68"
   },
   "outputs": [
    {
     "name": "stdout",
     "output_type": "stream",
     "text": [
      "<class 'pandas.core.frame.DataFrame'>\n",
      "RangeIndex: 157338 entries, 0 to 157337\n",
      "Data columns (total 13 columns):\n",
      " #   Column                          Non-Null Count   Dtype  \n",
      "---  ------                          --------------   -----  \n",
      " 0   DATETIME                        157338 non-null  object \n",
      " 1   System Buy Price(GBP/MWh)       157338 non-null  float64\n",
      " 2   Market Index Price (£/MWh)      157338 non-null  float64\n",
      " 3   Market Index Volume (MWh)       157338 non-null  float64\n",
      " 4   Settlement Period               157338 non-null  int64  \n",
      " 5   National demand (MW)            157338 non-null  float64\n",
      " 6   Embbeded wind generation (MW)   157338 non-null  float64\n",
      " 7   Embbeded solar generation (MW)  157338 non-null  float64\n",
      " 8   Total system demand (MW)        157338 non-null  float64\n",
      " 9   Wind generation (MW)            157338 non-null  float64\n",
      " 10  Solar generation (MW)           157338 non-null  float64\n",
      " 11  Hydro generation (MW)           157338 non-null  float64\n",
      " 12  Biomass generation (MW)         157338 non-null  float64\n",
      "dtypes: float64(11), int64(1), object(1)\n",
      "memory usage: 15.6+ MB\n"
     ]
    }
   ],
   "source": [
    "#Checking tablle attributes\n",
    "\n",
    "Table.info()"
   ]
  },
  {
   "cell_type": "code",
   "execution_count": 7,
   "metadata": {},
   "outputs": [],
   "source": [
    "#Creating a for loop to convert all columns from float64 to float32, to help machine handling computation\n",
    "\n",
    "columns_to_convert=['National demand (MW)','Solar generation (MW)','Embbeded solar generation (MW)','Embbeded wind generation (MW)','Total system demand (MW)','Market Index Volume (MWh)','Market Index Price (£/MWh)','System Buy Price(GBP/MWh)','Wind generation (MW)','Hydro generation (MW)','Biomass generation (MW)']\n",
    "for column in columns_to_convert:\n",
    "  Table[column]=pd.to_numeric(Table[column],errors='coerce').astype('float32')"
   ]
  },
  {
   "cell_type": "code",
   "execution_count": 8,
   "metadata": {
    "colab": {
     "base_uri": "https://localhost:8080/"
    },
    "executionInfo": {
     "elapsed": 395,
     "status": "ok",
     "timestamp": 1690980487929,
     "user": {
      "displayName": "Paulo Da Silva",
      "userId": "03066742735330604402"
     },
     "user_tz": -60
    },
    "id": "EQ__49u9DGJS",
    "outputId": "85a852d1-489b-4851-9152-822c1ba94bd6"
   },
   "outputs": [
    {
     "name": "stdout",
     "output_type": "stream",
     "text": [
      "<class 'pandas.core.frame.DataFrame'>\n",
      "RangeIndex: 157338 entries, 0 to 157337\n",
      "Data columns (total 13 columns):\n",
      " #   Column                          Non-Null Count   Dtype  \n",
      "---  ------                          --------------   -----  \n",
      " 0   DATETIME                        157338 non-null  object \n",
      " 1   System Buy Price(GBP/MWh)       157338 non-null  float32\n",
      " 2   Market Index Price (£/MWh)      157338 non-null  float32\n",
      " 3   Market Index Volume (MWh)       157338 non-null  float32\n",
      " 4   Settlement Period               157338 non-null  int64  \n",
      " 5   National demand (MW)            157338 non-null  float32\n",
      " 6   Embbeded wind generation (MW)   157338 non-null  float32\n",
      " 7   Embbeded solar generation (MW)  157338 non-null  float32\n",
      " 8   Total system demand (MW)        157338 non-null  float32\n",
      " 9   Wind generation (MW)            157338 non-null  float32\n",
      " 10  Solar generation (MW)           157338 non-null  float32\n",
      " 11  Hydro generation (MW)           157338 non-null  float32\n",
      " 12  Biomass generation (MW)         157338 non-null  float32\n",
      "dtypes: float32(11), int64(1), object(1)\n",
      "memory usage: 9.0+ MB\n"
     ]
    }
   ],
   "source": [
    "#Checking if the columns were converted successfully\n",
    "\n",
    "Table.info()"
   ]
  },
  {
   "cell_type": "code",
   "execution_count": 9,
   "metadata": {
    "executionInfo": {
     "elapsed": 3,
     "status": "ok",
     "timestamp": 1690980618160,
     "user": {
      "displayName": "Paulo Da Silva",
      "userId": "03066742735330604402"
     },
     "user_tz": -60
    },
    "id": "kjs6UeHhDGN-"
   },
   "outputs": [],
   "source": [
    "#Choosing time range start and end\n",
    "\n",
    "sd_start= ('2016-01-01 00:00:00')\n",
    "sd_end= ('2017-01-01 23:30:00')"
   ]
  },
  {
   "cell_type": "code",
   "execution_count": 10,
   "metadata": {
    "executionInfo": {
     "elapsed": 3,
     "status": "ok",
     "timestamp": 1690980621599,
     "user": {
      "displayName": "Paulo Da Silva",
      "userId": "03066742735330604402"
     },
     "user_tz": -60
    },
    "id": "_qcY-cIrDGQb"
   },
   "outputs": [],
   "source": [
    "#Selecting data within the time range defined above using the column that has datetime\n",
    "\n",
    "Table2=Table[(Table['DATETIME'] >= sd_start) & (Table['DATETIME']<= sd_end)]"
   ]
  },
  {
   "cell_type": "code",
   "execution_count": 11,
   "metadata": {
    "colab": {
     "base_uri": "https://localhost:8080/"
    },
    "executionInfo": {
     "elapsed": 3,
     "status": "ok",
     "timestamp": 1690980633021,
     "user": {
      "displayName": "Paulo Da Silva",
      "userId": "03066742735330604402"
     },
     "user_tz": -60
    },
    "id": "NN9qEIVCDGS_",
    "outputId": "b201aba5-8f26-4e0d-de35-f9cf0c59a496",
    "scrolled": true
   },
   "outputs": [
    {
     "name": "stdout",
     "output_type": "stream",
     "text": [
      "Number of NaN values per column:\n",
      "DATETIME                          0\n",
      "System Buy Price(GBP/MWh)         0\n",
      "Market Index Price (£/MWh)        0\n",
      "Market Index Volume (MWh)         0\n",
      "Settlement Period                 0\n",
      "National demand (MW)              0\n",
      "Embbeded wind generation (MW)     0\n",
      "Embbeded solar generation (MW)    0\n",
      "Total system demand (MW)          0\n",
      "Wind generation (MW)              0\n",
      "Solar generation (MW)             0\n",
      "Hydro generation (MW)             0\n",
      "Biomass generation (MW)           0\n",
      "dtype: int64\n"
     ]
    }
   ],
   "source": [
    "#Checking if there are null values within the data\n",
    "\n",
    "mask=Table2.isnull()\n",
    "num_nan_per_coll= mask.sum()\n",
    "print(\"Number of NaN values per column:\")\n",
    "print(num_nan_per_coll)"
   ]
  },
  {
   "cell_type": "code",
   "execution_count": 12,
   "metadata": {},
   "outputs": [
    {
     "data": {
      "text/html": [
       "<div>\n",
       "<style scoped>\n",
       "    .dataframe tbody tr th:only-of-type {\n",
       "        vertical-align: middle;\n",
       "    }\n",
       "\n",
       "    .dataframe tbody tr th {\n",
       "        vertical-align: top;\n",
       "    }\n",
       "\n",
       "    .dataframe thead th {\n",
       "        text-align: right;\n",
       "    }\n",
       "</style>\n",
       "<table border=\"1\" class=\"dataframe\">\n",
       "  <thead>\n",
       "    <tr style=\"text-align: right;\">\n",
       "      <th></th>\n",
       "      <th>System Buy Price(GBP/MWh)</th>\n",
       "      <th>Market Index Price (£/MWh)</th>\n",
       "      <th>Market Index Volume (MWh)</th>\n",
       "      <th>Settlement Period</th>\n",
       "      <th>National demand (MW)</th>\n",
       "      <th>Embbeded wind generation (MW)</th>\n",
       "      <th>Embbeded solar generation (MW)</th>\n",
       "      <th>Total system demand (MW)</th>\n",
       "      <th>Wind generation (MW)</th>\n",
       "      <th>Solar generation (MW)</th>\n",
       "      <th>Hydro generation (MW)</th>\n",
       "      <th>Biomass generation (MW)</th>\n",
       "    </tr>\n",
       "  </thead>\n",
       "  <tbody>\n",
       "    <tr>\n",
       "      <th>count</th>\n",
       "      <td>17520.000000</td>\n",
       "      <td>17520.000000</td>\n",
       "      <td>17520.000000</td>\n",
       "      <td>17520.000000</td>\n",
       "      <td>17520.000000</td>\n",
       "      <td>17520.000000</td>\n",
       "      <td>17520.000000</td>\n",
       "      <td>17520.000000</td>\n",
       "      <td>17520.000000</td>\n",
       "      <td>17520.000000</td>\n",
       "      <td>17520.000000</td>\n",
       "      <td>17520.0</td>\n",
       "    </tr>\n",
       "    <tr>\n",
       "      <th>mean</th>\n",
       "      <td>40.535152</td>\n",
       "      <td>39.148674</td>\n",
       "      <td>667.993530</td>\n",
       "      <td>24.500000</td>\n",
       "      <td>31465.392578</td>\n",
       "      <td>1224.354736</td>\n",
       "      <td>1088.430420</td>\n",
       "      <td>32669.224609</td>\n",
       "      <td>3470.178955</td>\n",
       "      <td>1150.978882</td>\n",
       "      <td>386.882141</td>\n",
       "      <td>0.0</td>\n",
       "    </tr>\n",
       "    <tr>\n",
       "      <th>std</th>\n",
       "      <td>46.204010</td>\n",
       "      <td>23.497244</td>\n",
       "      <td>333.790070</td>\n",
       "      <td>13.853794</td>\n",
       "      <td>7130.180664</td>\n",
       "      <td>749.037598</td>\n",
       "      <td>1632.219727</td>\n",
       "      <td>6904.990723</td>\n",
       "      <td>2058.681885</td>\n",
       "      <td>1767.055542</td>\n",
       "      <td>259.111023</td>\n",
       "      <td>0.0</td>\n",
       "    </tr>\n",
       "    <tr>\n",
       "      <th>min</th>\n",
       "      <td>0.000000</td>\n",
       "      <td>0.000000</td>\n",
       "      <td>0.000000</td>\n",
       "      <td>1.000000</td>\n",
       "      <td>16396.000000</td>\n",
       "      <td>135.000000</td>\n",
       "      <td>0.000000</td>\n",
       "      <td>18730.000000</td>\n",
       "      <td>265.000000</td>\n",
       "      <td>0.000000</td>\n",
       "      <td>0.000000</td>\n",
       "      <td>0.0</td>\n",
       "    </tr>\n",
       "    <tr>\n",
       "      <th>25%</th>\n",
       "      <td>24.618000</td>\n",
       "      <td>29.709999</td>\n",
       "      <td>417.787491</td>\n",
       "      <td>12.750000</td>\n",
       "      <td>26016.750000</td>\n",
       "      <td>636.750000</td>\n",
       "      <td>0.000000</td>\n",
       "      <td>27496.750000</td>\n",
       "      <td>1724.000000</td>\n",
       "      <td>0.000000</td>\n",
       "      <td>177.000000</td>\n",
       "      <td>0.0</td>\n",
       "    </tr>\n",
       "    <tr>\n",
       "      <th>50%</th>\n",
       "      <td>28.860001</td>\n",
       "      <td>34.799999</td>\n",
       "      <td>616.350006</td>\n",
       "      <td>24.500000</td>\n",
       "      <td>31142.000000</td>\n",
       "      <td>1050.000000</td>\n",
       "      <td>66.000000</td>\n",
       "      <td>32076.000000</td>\n",
       "      <td>3100.000000</td>\n",
       "      <td>2.000000</td>\n",
       "      <td>332.000000</td>\n",
       "      <td>0.0</td>\n",
       "    </tr>\n",
       "    <tr>\n",
       "      <th>75%</th>\n",
       "      <td>43.000000</td>\n",
       "      <td>42.452500</td>\n",
       "      <td>861.700012</td>\n",
       "      <td>36.250000</td>\n",
       "      <td>36299.500000</td>\n",
       "      <td>1676.000000</td>\n",
       "      <td>1810.000000</td>\n",
       "      <td>37182.000000</td>\n",
       "      <td>4964.000000</td>\n",
       "      <td>1911.500000</td>\n",
       "      <td>557.000000</td>\n",
       "      <td>0.0</td>\n",
       "    </tr>\n",
       "    <tr>\n",
       "      <th>max</th>\n",
       "      <td>1528.720947</td>\n",
       "      <td>792.210022</td>\n",
       "      <td>2580.399902</td>\n",
       "      <td>48.000000</td>\n",
       "      <td>68511.000000</td>\n",
       "      <td>5354.000000</td>\n",
       "      <td>8740.000000</td>\n",
       "      <td>69450.000000</td>\n",
       "      <td>10522.000000</td>\n",
       "      <td>8381.000000</td>\n",
       "      <td>1379.000000</td>\n",
       "      <td>0.0</td>\n",
       "    </tr>\n",
       "  </tbody>\n",
       "</table>\n",
       "</div>"
      ],
      "text/plain": [
       "       System Buy Price(GBP/MWh)  Market Index Price (£/MWh)  \\\n",
       "count               17520.000000                17520.000000   \n",
       "mean                   40.535152                   39.148674   \n",
       "std                    46.204010                   23.497244   \n",
       "min                     0.000000                    0.000000   \n",
       "25%                    24.618000                   29.709999   \n",
       "50%                    28.860001                   34.799999   \n",
       "75%                    43.000000                   42.452500   \n",
       "max                  1528.720947                  792.210022   \n",
       "\n",
       "       Market Index Volume (MWh)  Settlement Period  National demand (MW)  \\\n",
       "count               17520.000000       17520.000000          17520.000000   \n",
       "mean                  667.993530          24.500000          31465.392578   \n",
       "std                   333.790070          13.853794           7130.180664   \n",
       "min                     0.000000           1.000000          16396.000000   \n",
       "25%                   417.787491          12.750000          26016.750000   \n",
       "50%                   616.350006          24.500000          31142.000000   \n",
       "75%                   861.700012          36.250000          36299.500000   \n",
       "max                  2580.399902          48.000000          68511.000000   \n",
       "\n",
       "       Embbeded wind generation (MW)  Embbeded solar generation (MW)  \\\n",
       "count                   17520.000000                    17520.000000   \n",
       "mean                     1224.354736                     1088.430420   \n",
       "std                       749.037598                     1632.219727   \n",
       "min                       135.000000                        0.000000   \n",
       "25%                       636.750000                        0.000000   \n",
       "50%                      1050.000000                       66.000000   \n",
       "75%                      1676.000000                     1810.000000   \n",
       "max                      5354.000000                     8740.000000   \n",
       "\n",
       "       Total system demand (MW)  Wind generation (MW)  Solar generation (MW)  \\\n",
       "count              17520.000000          17520.000000           17520.000000   \n",
       "mean               32669.224609           3470.178955            1150.978882   \n",
       "std                 6904.990723           2058.681885            1767.055542   \n",
       "min                18730.000000            265.000000               0.000000   \n",
       "25%                27496.750000           1724.000000               0.000000   \n",
       "50%                32076.000000           3100.000000               2.000000   \n",
       "75%                37182.000000           4964.000000            1911.500000   \n",
       "max                69450.000000          10522.000000            8381.000000   \n",
       "\n",
       "       Hydro generation (MW)  Biomass generation (MW)  \n",
       "count           17520.000000                  17520.0  \n",
       "mean              386.882141                      0.0  \n",
       "std               259.111023                      0.0  \n",
       "min                 0.000000                      0.0  \n",
       "25%               177.000000                      0.0  \n",
       "50%               332.000000                      0.0  \n",
       "75%               557.000000                      0.0  \n",
       "max              1379.000000                      0.0  "
      ]
     },
     "execution_count": 12,
     "metadata": {},
     "output_type": "execute_result"
    }
   ],
   "source": [
    "#Visualizing statistical summary of each variable\n",
    "\n",
    "Table2.describe()"
   ]
  },
  {
   "cell_type": "code",
   "execution_count": 13,
   "metadata": {},
   "outputs": [
    {
     "name": "stdout",
     "output_type": "stream",
     "text": [
      "Epoch 1/20\n",
      "1168/1168 [==============================] - 5s 4ms/step - loss: 780.8217\n",
      "Epoch 2/20\n",
      "1168/1168 [==============================] - 4s 3ms/step - loss: 431.1608\n",
      "Epoch 3/20\n",
      "1168/1168 [==============================] - 3s 3ms/step - loss: 418.5412\n",
      "Epoch 4/20\n",
      "1168/1168 [==============================] - 3s 2ms/step - loss: 411.5059\n",
      "Epoch 5/20\n",
      "1168/1168 [==============================] - 3s 3ms/step - loss: 404.6898\n",
      "Epoch 6/20\n",
      "1168/1168 [==============================] - 4s 3ms/step - loss: 399.0748\n",
      "Epoch 7/20\n",
      "1168/1168 [==============================] - 3s 3ms/step - loss: 394.3982\n",
      "Epoch 8/20\n",
      "1168/1168 [==============================] - 3s 3ms/step - loss: 390.6680\n",
      "Epoch 9/20\n",
      "1168/1168 [==============================] - 3s 3ms/step - loss: 386.4858\n",
      "Epoch 10/20\n",
      "1168/1168 [==============================] - 4s 3ms/step - loss: 385.3969\n",
      "Epoch 11/20\n",
      "1168/1168 [==============================] - 5s 5ms/step - loss: 382.4413\n",
      "Epoch 12/20\n",
      "1168/1168 [==============================] - 4s 4ms/step - loss: 381.1870\n",
      "Epoch 13/20\n",
      "1168/1168 [==============================] - 4s 4ms/step - loss: 379.7041\n",
      "Epoch 14/20\n",
      "1168/1168 [==============================] - 7s 6ms/step - loss: 379.0833\n",
      "Epoch 15/20\n",
      "1168/1168 [==============================] - 6s 5ms/step - loss: 377.3693\n",
      "Epoch 16/20\n",
      "1168/1168 [==============================] - 4s 4ms/step - loss: 376.8886\n",
      "Epoch 17/20\n",
      "1168/1168 [==============================] - 7s 6ms/step - loss: 376.1450\n",
      "Epoch 18/20\n",
      "1168/1168 [==============================] - 5s 5ms/step - loss: 375.2415\n",
      "Epoch 19/20\n",
      "1168/1168 [==============================] - 8s 7ms/step - loss: 375.2989\n",
      "Epoch 20/20\n",
      "1168/1168 [==============================] - 7s 6ms/step - loss: 374.3365\n",
      "Loss: 425.1579284667969\n"
     ]
    }
   ],
   "source": [
    "#Calling additional needed libraries to run the model \n",
    "\n",
    "from keras.models import Sequential\n",
    "from keras.layers import Dense\n",
    "from sklearn.model_selection import train_test_split\n",
    "from sklearn.preprocessing import MinMaxScaler\n",
    "from tensorflow.keras.models import Sequential\n",
    "from tensorflow.keras.layers import Dense\n",
    "\n",
    "# Separating the features and target variable\n",
    "features = Table2[['System Buy Price(GBP/MWh)','Market Index Volume (MWh)','Embbeded wind generation (MW)','Embbeded solar generation (MW)','Total system demand (MW)','Wind generation (MW)','Biomass generation (MW)','Solar generation (MW)','Hydro generation (MW)']]\n",
    "target = Table2['Market Index Price (£/MWh)']\n",
    "\n",
    "# Perform data preprocessing\n",
    "scaler = MinMaxScaler()\n",
    "features_scaled = scaler.fit_transform(features)\n",
    "\n",
    "# Splitting the dataset into training and testing sets\n",
    "X_train, X_test, y_train, y_test = train_test_split(features_scaled, target, test_size=0.2, random_state=42)\n",
    "\n",
    "# Defining the model architecture\n",
    "model = Sequential()\n",
    "model.add(Dense(9, activation='relu', input_dim=X_train.shape[1]))\n",
    "model.add(Dense(8, activation='relu'))\n",
    "model.add(Dense(8, activation='relu'))\n",
    "model.add(Dense(1, activation='linear'))\n",
    "\n",
    "# Compiling the model\n",
    "model.compile(loss='mean_squared_error', optimizer='adam')\n",
    "\n",
    "# Training the model\n",
    "model.fit(X_train, y_train, epochs=20, batch_size=12, verbose=1)\n",
    "\n",
    "# Evaluating the model\n",
    "loss = model.evaluate(X_test, y_test, verbose=0)\n",
    "print(f'Loss: {loss}')"
   ]
  },
  {
   "cell_type": "code",
   "execution_count": 14,
   "metadata": {
    "colab": {
     "base_uri": "https://localhost:8080/"
    },
    "executionInfo": {
     "elapsed": 1093,
     "status": "ok",
     "timestamp": 1690980687498,
     "user": {
      "displayName": "Paulo Da Silva",
      "userId": "03066742735330604402"
     },
     "user_tz": -60
    },
    "id": "jacEVKFMCztp",
    "outputId": "df3c67d0-e36f-46a6-f939-c04610dc6a65"
   },
   "outputs": [
    {
     "name": "stdout",
     "output_type": "stream",
     "text": [
      "110/110 [==============================] - 1s 3ms/step\n"
     ]
    }
   ],
   "source": [
    "# Making predictions\n",
    "\n",
    "predictions = model.predict(X_test)"
   ]
  },
  {
   "cell_type": "code",
   "execution_count": 15,
   "metadata": {
    "colab": {
     "base_uri": "https://localhost:8080/"
    },
    "executionInfo": {
     "elapsed": 3,
     "status": "ok",
     "timestamp": 1690980690629,
     "user": {
      "displayName": "Paulo Da Silva",
      "userId": "03066742735330604402"
     },
     "user_tz": -60
    },
    "id": "ta67b_n8DrTo",
    "outputId": "cca0e952-0019-4f9a-9a09-b060db426de6"
   },
   "outputs": [
    {
     "name": "stdout",
     "output_type": "stream",
     "text": [
      "[[41.32158 ]\n",
      " [55.224995]\n",
      " [38.617565]\n",
      " ...\n",
      " [47.087654]\n",
      " [30.452772]\n",
      " [71.676506]]\n"
     ]
    }
   ],
   "source": [
    "#Printing the predicted values to check for irregularities\n",
    "\n",
    "print(predictions)"
   ]
  },
  {
   "cell_type": "code",
   "execution_count": 16,
   "metadata": {
    "colab": {
     "base_uri": "https://localhost:8080/"
    },
    "executionInfo": {
     "elapsed": 5,
     "status": "ok",
     "timestamp": 1690980694748,
     "user": {
      "displayName": "Paulo Da Silva",
      "userId": "03066742735330604402"
     },
     "user_tz": -60
    },
    "id": "MQJpDKjoDrWn",
    "outputId": "f84d8ebe-52c9-4853-ede3-b56a4346d485"
   },
   "outputs": [
    {
     "data": {
      "text/plain": [
       "array([203.31586], dtype=float32)"
      ]
     },
     "execution_count": 16,
     "metadata": {},
     "output_type": "execute_result"
    }
   ],
   "source": [
    "#Checking max of predictions to help set plot range\n",
    "\n",
    "max(predictions)"
   ]
  },
  {
   "cell_type": "code",
   "execution_count": 17,
   "metadata": {},
   "outputs": [],
   "source": [
    "# Transforming the prediction array of 2d to one dimension for plotting\n",
    "\n",
    "predictions1= predictions.reshape(-1)"
   ]
  },
  {
   "cell_type": "code",
   "execution_count": 18,
   "metadata": {
    "colab": {
     "base_uri": "https://localhost:8080/"
    },
    "executionInfo": {
     "elapsed": 4,
     "status": "ok",
     "timestamp": 1690980699389,
     "user": {
      "displayName": "Paulo Da Silva",
      "userId": "03066742735330604402"
     },
     "user_tz": -60
    },
    "id": "7rVyK0BuDrcY",
    "outputId": "17c565da-af55-474d-e887-afdd8c80305a"
   },
   "outputs": [
    {
     "name": "stdout",
     "output_type": "stream",
     "text": [
      "Mean Squared Error (MSE): 425.15789794921875\n",
      "Root Mean Squared Error (RMSE): 20.61935806274414\n",
      "Mean Absolute Error (MAE): 9.139543533325195\n",
      "R-squared (R2) score: 0.2924225116768937\n"
     ]
    }
   ],
   "source": [
    "#Importing library to calculate evalution metrics\n",
    "from sklearn.metrics import mean_squared_error, mean_absolute_error, r2_score\n",
    "\n",
    "# Calculating evaluation metrics\n",
    "mse = mean_squared_error(y_test, predictions)\n",
    "rmse = np.sqrt(mse)\n",
    "mae = mean_absolute_error(y_test, predictions)\n",
    "r2 = r2_score(y_test, predictions)\n",
    "\n",
    "print(f'Mean Squared Error (MSE): {mse}')\n",
    "print(f'Root Mean Squared Error (RMSE): {rmse}')\n",
    "print(f'Mean Absolute Error (MAE): {mae}')\n",
    "print(f'R-squared (R2) score: {r2}')"
   ]
  },
  {
   "cell_type": "code",
   "execution_count": 25,
   "metadata": {
    "colab": {
     "base_uri": "https://localhost:8080/",
     "height": 504
    },
    "executionInfo": {
     "elapsed": 466,
     "status": "ok",
     "timestamp": 1690980712426,
     "user": {
      "displayName": "Paulo Da Silva",
      "userId": "03066742735330604402"
     },
     "user_tz": -60
    },
    "id": "HrKYAy39Czqr",
    "outputId": "6e826324-463d-4813-a201-dd3cf0ae7c7e"
   },
   "outputs": [
    {
     "data": {
      "image/png": "[encoded data removed]",
      "text/plain": [
       "<Figure size 1000x500 with 1 Axes>"
      ]
     },
     "metadata": {},
     "output_type": "display_data"
    },
    {
     "data": {
      "text/plain": [
       "<Figure size 640x480 with 0 Axes>"
      ]
     },
     "metadata": {},
     "output_type": "display_data"
    }
   ],
   "source": [
    "#Importing library to plot results\n",
    "import matplotlib.pyplot as plt\n",
    "\n",
    "# Plot of predicted vs. actual prices\n",
    "plt.figure(figsize=(10, 5))\n",
    "plt.grid(False)\n",
    "plt.scatter(y_test, predictions,color='black',s=1)\n",
    "plt.xlabel(' Actual electricity prices from 2016 to 2017')\n",
    "plt.ylabel('Predicted electricity Prices')\n",
    "plt.title('Actual vs. Predicted electricity prices between 2016 and 2017')\n",
    "min_val = 0  \n",
    "max_val = 100  \n",
    "plt.xlim(min_val, max_val)\n",
    "plt.ylim(min_val, max_val)\n",
    "\n",
    "plt.show()\n",
    "plt.savefig(\"random.jpg\", facecolor=\"k\")"
   ]
  },
  {
   "cell_type": "code",
   "execution_count": 26,
   "metadata": {
    "colab": {
     "base_uri": "https://localhost:8080/",
     "height": 504
    },
    "executionInfo": {
     "elapsed": 1350,
     "status": "ok",
     "timestamp": 1690980725262,
     "user": {
      "displayName": "Paulo Da Silva",
      "userId": "03066742735330604402"
     },
     "user_tz": -60
    },
    "id": "mSg-ojMVD2be",
    "outputId": "efe1b77a-a03f-4a9f-f240-6ae8263614ea"
   },
   "outputs": [
    {
     "data": {
      "image/png": "[encoded data removed]",
      "text/plain": [
       "<Figure size 1000x500 with 1 Axes>"
      ]
     },
     "metadata": {},
     "output_type": "display_data"
    },
    {
     "data": {
      "text/plain": [
       "<Figure size 640x480 with 0 Axes>"
      ]
     },
     "metadata": {},
     "output_type": "display_data"
    }
   ],
   "source": [
    "#Potting distribution of predition\n",
    "\n",
    "plt.figure(figsize=(10, 5))\n",
    "sn.histplot(predictions1, color='black')\n",
    "plt.title('Distribution Plot of Predicted values from 2016 to 2017')\n",
    "plt.xlabel('Predicted Electricity prices')\n",
    "plt.ylabel('Frequency')\n",
    "plt.xlim(min_val, max_val)\n",
    "min_val = 0 \n",
    "max_val =100 \n",
    "plt.show()\n",
    "plt.savefig('distribution_plot.png')"
   ]
  },
  {
   "cell_type": "code",
   "execution_count": 21,
   "metadata": {
    "colab": {
     "base_uri": "https://localhost:8080/",
     "height": 483
    },
    "executionInfo": {
     "elapsed": 1316,
     "status": "ok",
     "timestamp": 1690980731302,
     "user": {
      "displayName": "Paulo Da Silva",
      "userId": "03066742735330604402"
     },
     "user_tz": -60
    },
    "id": "PXmI9glmD2jd",
    "outputId": "6c2273df-849a-4e4f-f01d-20b19b7573e3"
   },
   "outputs": [
    {
     "data": {
      "image/png": "[encoded data removed]",
      "text/plain": [
       "<Figure size 1000x500 with 1 Axes>"
      ]
     },
     "metadata": {},
     "output_type": "display_data"
    }
   ],
   "source": [
    "#Plotting distribution of actual values\n",
    "\n",
    "plt.figure(figsize=(10, 5))\n",
    "sn.histplot(y_test, color='black')\n",
    "plt.grid(False)\n",
    "min_val = 0\n",
    "max_val =250  \n",
    "plt.xlim(min_val, max_val)\n",
    "plt.title('Distribution plot of actual electricity prices from 2016 to 2017')\n",
    "plt.xlabel('Actual electricity prices')\n",
    "plt.ylabel('Frequency')\n",
    "plt.savefig('distribution_plot.png')\n",
    "plt.show()"
   ]
  },
  {
   "cell_type": "code",
   "execution_count": 22,
   "metadata": {
    "colab": {
     "base_uri": "https://localhost:8080/"
    },
    "executionInfo": {
     "elapsed": 907,
     "status": "ok",
     "timestamp": 1690980745168,
     "user": {
      "displayName": "Paulo Da Silva",
      "userId": "03066742735330604402"
     },
     "user_tz": -60
    },
    "id": "bjMT6MkXD7rI",
    "outputId": "60c0cfd1-a4aa-45dd-c9ce-8d913488a6e3"
   },
   "outputs": [
    {
     "name": "stdout",
     "output_type": "stream",
     "text": [
      "Residuals:\n"
     ]
    }
   ],
   "source": [
    "# Calculating the residuals\n",
    "residuals =y_test -predictions.flatten()\n",
    "\n",
    "# Displaying the residuals\n",
    "print(\"Residuals:\")"
   ]
  },
  {
   "cell_type": "code",
   "execution_count": 23,
   "metadata": {
    "colab": {
     "base_uri": "https://localhost:8080/"
    },
    "executionInfo": {
     "elapsed": 892,
     "status": "ok",
     "timestamp": 1690980751845,
     "user": {
      "displayName": "Paulo Da Silva",
      "userId": "03066742735330604402"
     },
     "user_tz": -60
    },
    "id": "V1qnENaRD7tz",
    "outputId": "fc606dd2-dddc-42f3-e79b-d5c7d6b7b710"
   },
   "outputs": [
    {
     "name": "stdout",
     "output_type": "stream",
     "text": [
      "Feature 1 Importance: 3.788764476776123\n",
      "Feature 2 Importance: 5.28600549697876\n",
      "Feature 3 Importance: 2.5008559226989746\n",
      "Feature 4 Importance: 5.157523155212402\n",
      "Feature 5 Importance: 5.977804660797119\n",
      "Feature 6 Importance: 5.718939781188965\n",
      "Feature 7 Importance: 6.146854400634766\n",
      "Feature 8 Importance: 3.5444464683532715\n",
      "Feature 9 Importance: 6.566562175750732\n"
     ]
    }
   ],
   "source": [
    "# Getting the weights of the first layer\n",
    "weights_layer1 = model.get_weights()[0]\n",
    "\n",
    "# Calculating feature importance by summing the absolute weights for each feature\n",
    "feature_importance = np.sum(np.abs(weights_layer1), axis=0)\n",
    "\n",
    "# Printting feature importance scores\n",
    "for i, importance in enumerate(feature_importance):\n",
    "    print(f'Feature {i+1} Importance: {importance}')"
   ]
  }
 ],
 "metadata": {
  "accelerator": "GPU",
  "colab": {
   "authorship_tag": "ABX9TyMWH9VRt3g+HnrRG81igG1s",
   "gpuType": "V100",
   "machine_shape": "hm",
   "mount_file_id": "10TeDDkn8Ie8N-OJz1954sLA8L8XuBaQL",
   "provenance": []
  },
  "kernelspec": {
   "display_name": "Python 3 (ipykernel)",
   "language": "python",
   "name": "python3"
  },
  "language_info": {
   "codemirror_mode": {
    "name": "ipython",
    "version": 3
   },
   "file_extension": ".py",
   "mimetype": "text/x-python",
   "name": "python",
   "nbconvert_exporter": "python",
   "pygments_lexer": "ipython3",
   "version": "3.9.17"
  }
 },
 "nbformat": 4,
 "nbformat_minor": 1
}
