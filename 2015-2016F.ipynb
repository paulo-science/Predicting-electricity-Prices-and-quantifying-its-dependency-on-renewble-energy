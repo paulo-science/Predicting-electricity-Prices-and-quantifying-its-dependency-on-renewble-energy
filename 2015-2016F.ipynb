{
 "cells": [
  {
   "cell_type": "code",
   "execution_count": 1,
   "metadata": {
    "executionInfo": {
     "elapsed": 1677,
     "status": "ok",
     "timestamp": 1690980429852,
     "user": {
      "displayName": "Paulo Da Silva",
      "userId": "03066742735330604402"
     },
     "user_tz": -60
    },
    "id": "VgzmsaKJxCcf"
   },
   "outputs": [],
   "source": [
    "#Importing Libraries needed to run ANN model\n",
    "\n",
    "import numpy as np\n",
    "import pandas as pd\n",
    "import matplotlib.pyplot as plt\n",
    "from sklearn.impute import SimpleImputer\n",
    "from sklearn.preprocessing import minmax_scale, normalize\n",
    "import seaborn as sn\n",
    "import datetime\n",
    "%matplotlib inline"
   ]
  },
  {
   "cell_type": "code",
   "execution_count": 2,
   "metadata": {
    "executionInfo": {
     "elapsed": 2233,
     "status": "ok",
     "timestamp": 1690980434558,
     "user": {
      "displayName": "Paulo Da Silva",
      "userId": "03066742735330604402"
     },
     "user_tz": -60
    },
    "id": "Zz5hJ0m3xMuk"
   },
   "outputs": [],
   "source": [
    "#Importing machine learning library\n",
    "\n",
    "import tensorflow as ts"
   ]
  },
  {
   "cell_type": "code",
   "execution_count": 3,
   "metadata": {
    "executionInfo": {
     "elapsed": 3,
     "status": "ok",
     "timestamp": 1690980436714,
     "user": {
      "displayName": "Paulo Da Silva",
      "userId": "03066742735330604402"
     },
     "user_tz": -60
    },
    "id": "GQllu7aOCzwP"
   },
   "outputs": [],
   "source": [
    "#Importing machine learning library\n",
    "\n",
    "from tensorflow import keras"
   ]
  },
  {
   "cell_type": "code",
   "execution_count": 4,
   "metadata": {
    "executionInfo": {
     "elapsed": 5,
     "status": "ok",
     "timestamp": 1690980439452,
     "user": {
      "displayName": "Paulo Da Silva",
      "userId": "03066742735330604402"
     },
     "user_tz": -60
    },
    "id": "k-K6orWMDF_S"
   },
   "outputs": [],
   "source": [
    "#Creating file path to read file\n",
    "\n",
    "csv_file_path ='Table2014_2023F.csv'"
   ]
  },
  {
   "cell_type": "code",
   "execution_count": 5,
   "metadata": {
    "executionInfo": {
     "elapsed": 1362,
     "status": "ok",
     "timestamp": 1690980443412,
     "user": {
      "displayName": "Paulo Da Silva",
      "userId": "03066742735330604402"
     },
     "user_tz": -60
    },
    "id": "2iMvDSzyDGB1"
   },
   "outputs": [],
   "source": [
    "#Reading the csv file with reduced features and ready for the model and assigning variable name\n",
    "\n",
    "Table=pd.read_csv(csv_file_path)"
   ]
  },
  {
   "cell_type": "code",
   "execution_count": 6,
   "metadata": {
    "colab": {
     "base_uri": "https://localhost:8080/"
    },
    "executionInfo": {
     "elapsed": 4,
     "status": "ok",
     "timestamp": 1690980446270,
     "user": {
      "displayName": "Paulo Da Silva",
      "userId": "03066742735330604402"
     },
     "user_tz": -60
    },
    "id": "E-0EFKPbDGEY",
    "outputId": "cf68fbd4-71f0-4d66-da53-b65846420c68"
   },
   "outputs": [
    {
     "name": "stdout",
     "output_type": "stream",
     "text": [
      "<class 'pandas.core.frame.DataFrame'>\n",
      "RangeIndex: 157338 entries, 0 to 157337\n",
      "Data columns (total 13 columns):\n",
      " #   Column                          Non-Null Count   Dtype  \n",
      "---  ------                          --------------   -----  \n",
      " 0   DATETIME                        157338 non-null  object \n",
      " 1   System Buy Price(GBP/MWh)       157338 non-null  float64\n",
      " 2   Market Index Price (£/MWh)      157338 non-null  float64\n",
      " 3   Market Index Volume (MWh)       157338 non-null  float64\n",
      " 4   Settlement Period               157338 non-null  int64  \n",
      " 5   National demand (MW)            157338 non-null  float64\n",
      " 6   Embbeded wind generation (MW)   157338 non-null  float64\n",
      " 7   Embbeded solar generation (MW)  157338 non-null  float64\n",
      " 8   Total system demand (MW)        157338 non-null  float64\n",
      " 9   Wind generation (MW)            157338 non-null  float64\n",
      " 10  Solar generation (MW)           157338 non-null  float64\n",
      " 11  Hydro generation (MW)           157338 non-null  float64\n",
      " 12  Biomass generation (MW)         157338 non-null  float64\n",
      "dtypes: float64(11), int64(1), object(1)\n",
      "memory usage: 15.6+ MB\n"
     ]
    }
   ],
   "source": [
    "#Checking tablle attributes\n",
    "\n",
    "Table.info()"
   ]
  },
  {
   "cell_type": "code",
   "execution_count": 7,
   "metadata": {},
   "outputs": [],
   "source": [
    "#Creating a for loop to convert all columns from float64 to float32, to help machine handling computation\n",
    "\n",
    "columns_to_convert=['National demand (MW)','Solar generation (MW)','Embbeded solar generation (MW)','Embbeded wind generation (MW)','Total system demand (MW)','Market Index Volume (MWh)','Market Index Price (£/MWh)','System Buy Price(GBP/MWh)','Wind generation (MW)','Hydro generation (MW)','Biomass generation (MW)']\n",
    "for column in columns_to_convert:\n",
    "  Table[column]=pd.to_numeric(Table[column],errors='coerce').astype('float32')"
   ]
  },
  {
   "cell_type": "code",
   "execution_count": 8,
   "metadata": {
    "colab": {
     "base_uri": "https://localhost:8080/"
    },
    "executionInfo": {
     "elapsed": 395,
     "status": "ok",
     "timestamp": 1690980487929,
     "user": {
      "displayName": "Paulo Da Silva",
      "userId": "03066742735330604402"
     },
     "user_tz": -60
    },
    "id": "EQ__49u9DGJS",
    "outputId": "85a852d1-489b-4851-9152-822c1ba94bd6"
   },
   "outputs": [
    {
     "name": "stdout",
     "output_type": "stream",
     "text": [
      "<class 'pandas.core.frame.DataFrame'>\n",
      "RangeIndex: 157338 entries, 0 to 157337\n",
      "Data columns (total 13 columns):\n",
      " #   Column                          Non-Null Count   Dtype  \n",
      "---  ------                          --------------   -----  \n",
      " 0   DATETIME                        157338 non-null  object \n",
      " 1   System Buy Price(GBP/MWh)       157338 non-null  float32\n",
      " 2   Market Index Price (£/MWh)      157338 non-null  float32\n",
      " 3   Market Index Volume (MWh)       157338 non-null  float32\n",
      " 4   Settlement Period               157338 non-null  int64  \n",
      " 5   National demand (MW)            157338 non-null  float32\n",
      " 6   Embbeded wind generation (MW)   157338 non-null  float32\n",
      " 7   Embbeded solar generation (MW)  157338 non-null  float32\n",
      " 8   Total system demand (MW)        157338 non-null  float32\n",
      " 9   Wind generation (MW)            157338 non-null  float32\n",
      " 10  Solar generation (MW)           157338 non-null  float32\n",
      " 11  Hydro generation (MW)           157338 non-null  float32\n",
      " 12  Biomass generation (MW)         157338 non-null  float32\n",
      "dtypes: float32(11), int64(1), object(1)\n",
      "memory usage: 9.0+ MB\n"
     ]
    }
   ],
   "source": [
    "#Checking if the columns were converted successfully\n",
    "\n",
    "Table.info()"
   ]
  },
  {
   "cell_type": "code",
   "execution_count": 9,
   "metadata": {
    "executionInfo": {
     "elapsed": 3,
     "status": "ok",
     "timestamp": 1690980618160,
     "user": {
      "displayName": "Paulo Da Silva",
      "userId": "03066742735330604402"
     },
     "user_tz": -60
    },
    "id": "kjs6UeHhDGN-"
   },
   "outputs": [],
   "source": [
    "#Choosing time range start and end\n",
    "\n",
    "sd_start= ('2015-01-01 00:00:00')\n",
    "sd_end= ('2016-01-01 23:30:00')"
   ]
  },
  {
   "cell_type": "code",
   "execution_count": 10,
   "metadata": {
    "executionInfo": {
     "elapsed": 3,
     "status": "ok",
     "timestamp": 1690980621599,
     "user": {
      "displayName": "Paulo Da Silva",
      "userId": "03066742735330604402"
     },
     "user_tz": -60
    },
    "id": "_qcY-cIrDGQb"
   },
   "outputs": [],
   "source": [
    "#Selecting data within the time range defined above using the column that has datetime\n",
    "\n",
    "Table2=Table[(Table['DATETIME'] >= sd_start) & (Table['DATETIME']<= sd_end)]"
   ]
  },
  {
   "cell_type": "code",
   "execution_count": 11,
   "metadata": {
    "colab": {
     "base_uri": "https://localhost:8080/"
    },
    "executionInfo": {
     "elapsed": 3,
     "status": "ok",
     "timestamp": 1690980633021,
     "user": {
      "displayName": "Paulo Da Silva",
      "userId": "03066742735330604402"
     },
     "user_tz": -60
    },
    "id": "NN9qEIVCDGS_",
    "outputId": "b201aba5-8f26-4e0d-de35-f9cf0c59a496",
    "scrolled": true
   },
   "outputs": [
    {
     "name": "stdout",
     "output_type": "stream",
     "text": [
      "Number of NaN values per column:\n",
      "DATETIME                          0\n",
      "System Buy Price(GBP/MWh)         0\n",
      "Market Index Price (£/MWh)        0\n",
      "Market Index Volume (MWh)         0\n",
      "Settlement Period                 0\n",
      "National demand (MW)              0\n",
      "Embbeded wind generation (MW)     0\n",
      "Embbeded solar generation (MW)    0\n",
      "Total system demand (MW)          0\n",
      "Wind generation (MW)              0\n",
      "Solar generation (MW)             0\n",
      "Hydro generation (MW)             0\n",
      "Biomass generation (MW)           0\n",
      "dtype: int64\n"
     ]
    }
   ],
   "source": [
    "#Checking if there are null values within the data\n",
    "\n",
    "mask=Table2.isnull()\n",
    "num_nan_per_coll= mask.sum()\n",
    "print(\"Number of NaN values per column:\")\n",
    "print(num_nan_per_coll)"
   ]
  },
  {
   "cell_type": "code",
   "execution_count": 12,
   "metadata": {},
   "outputs": [
    {
     "data": {
      "text/html": [
       "<div>\n",
       "<style scoped>\n",
       "    .dataframe tbody tr th:only-of-type {\n",
       "        vertical-align: middle;\n",
       "    }\n",
       "\n",
       "    .dataframe tbody tr th {\n",
       "        vertical-align: top;\n",
       "    }\n",
       "\n",
       "    .dataframe thead th {\n",
       "        text-align: right;\n",
       "    }\n",
       "</style>\n",
       "<table border=\"1\" class=\"dataframe\">\n",
       "  <thead>\n",
       "    <tr style=\"text-align: right;\">\n",
       "      <th></th>\n",
       "      <th>System Buy Price(GBP/MWh)</th>\n",
       "      <th>Market Index Price (£/MWh)</th>\n",
       "      <th>Market Index Volume (MWh)</th>\n",
       "      <th>Settlement Period</th>\n",
       "      <th>National demand (MW)</th>\n",
       "      <th>Embbeded wind generation (MW)</th>\n",
       "      <th>Embbeded solar generation (MW)</th>\n",
       "      <th>Total system demand (MW)</th>\n",
       "      <th>Wind generation (MW)</th>\n",
       "      <th>Solar generation (MW)</th>\n",
       "      <th>Hydro generation (MW)</th>\n",
       "      <th>Biomass generation (MW)</th>\n",
       "    </tr>\n",
       "  </thead>\n",
       "  <tbody>\n",
       "    <tr>\n",
       "      <th>count</th>\n",
       "      <td>17520.000000</td>\n",
       "      <td>17520.000000</td>\n",
       "      <td>17520.000000</td>\n",
       "      <td>17520.000000</td>\n",
       "      <td>17520.000000</td>\n",
       "      <td>17520.000000</td>\n",
       "      <td>17520.000000</td>\n",
       "      <td>17520.000000</td>\n",
       "      <td>17520.000000</td>\n",
       "      <td>17520.000000</td>\n",
       "      <td>17520.000000</td>\n",
       "      <td>17520.0</td>\n",
       "    </tr>\n",
       "    <tr>\n",
       "      <th>mean</th>\n",
       "      <td>45.523262</td>\n",
       "      <td>40.033340</td>\n",
       "      <td>680.929321</td>\n",
       "      <td>24.500000</td>\n",
       "      <td>32303.777344</td>\n",
       "      <td>1346.252075</td>\n",
       "      <td>962.318237</td>\n",
       "      <td>33463.066406</td>\n",
       "      <td>3621.847168</td>\n",
       "      <td>842.254944</td>\n",
       "      <td>468.821472</td>\n",
       "      <td>0.0</td>\n",
       "    </tr>\n",
       "    <tr>\n",
       "      <th>std</th>\n",
       "      <td>16.636713</td>\n",
       "      <td>10.696275</td>\n",
       "      <td>344.826385</td>\n",
       "      <td>13.853794</td>\n",
       "      <td>7312.124512</td>\n",
       "      <td>854.236328</td>\n",
       "      <td>1487.473999</td>\n",
       "      <td>7159.061523</td>\n",
       "      <td>2207.311768</td>\n",
       "      <td>1324.839111</td>\n",
       "      <td>258.360748</td>\n",
       "      <td>0.0</td>\n",
       "    </tr>\n",
       "    <tr>\n",
       "      <th>min</th>\n",
       "      <td>0.000000</td>\n",
       "      <td>0.000000</td>\n",
       "      <td>0.000000</td>\n",
       "      <td>1.000000</td>\n",
       "      <td>17909.000000</td>\n",
       "      <td>138.000000</td>\n",
       "      <td>0.000000</td>\n",
       "      <td>19839.000000</td>\n",
       "      <td>172.000000</td>\n",
       "      <td>0.000000</td>\n",
       "      <td>0.000000</td>\n",
       "      <td>0.0</td>\n",
       "    </tr>\n",
       "    <tr>\n",
       "      <th>25%</th>\n",
       "      <td>35.830002</td>\n",
       "      <td>34.799999</td>\n",
       "      <td>429.750000</td>\n",
       "      <td>12.750000</td>\n",
       "      <td>26670.000000</td>\n",
       "      <td>652.000000</td>\n",
       "      <td>0.000000</td>\n",
       "      <td>27793.000000</td>\n",
       "      <td>1751.000000</td>\n",
       "      <td>0.000000</td>\n",
       "      <td>267.000000</td>\n",
       "      <td>0.0</td>\n",
       "    </tr>\n",
       "    <tr>\n",
       "      <th>50%</th>\n",
       "      <td>42.309000</td>\n",
       "      <td>38.759998</td>\n",
       "      <td>619.250000</td>\n",
       "      <td>24.500000</td>\n",
       "      <td>32342.000000</td>\n",
       "      <td>1146.000000</td>\n",
       "      <td>63.000000</td>\n",
       "      <td>33249.500000</td>\n",
       "      <td>3209.500000</td>\n",
       "      <td>1.000000</td>\n",
       "      <td>444.000000</td>\n",
       "      <td>0.0</td>\n",
       "    </tr>\n",
       "    <tr>\n",
       "      <th>75%</th>\n",
       "      <td>51.121749</td>\n",
       "      <td>43.930000</td>\n",
       "      <td>859.700012</td>\n",
       "      <td>36.250000</td>\n",
       "      <td>36924.250000</td>\n",
       "      <td>1900.000000</td>\n",
       "      <td>1480.000000</td>\n",
       "      <td>37860.250000</td>\n",
       "      <td>5348.250000</td>\n",
       "      <td>1308.250000</td>\n",
       "      <td>662.000000</td>\n",
       "      <td>0.0</td>\n",
       "    </tr>\n",
       "    <tr>\n",
       "      <th>max</th>\n",
       "      <td>415.420990</td>\n",
       "      <td>259.200012</td>\n",
       "      <td>2842.550049</td>\n",
       "      <td>48.000000</td>\n",
       "      <td>79138.000000</td>\n",
       "      <td>5634.000000</td>\n",
       "      <td>7040.000000</td>\n",
       "      <td>80722.000000</td>\n",
       "      <td>8949.000000</td>\n",
       "      <td>5999.000000</td>\n",
       "      <td>1109.000000</td>\n",
       "      <td>0.0</td>\n",
       "    </tr>\n",
       "  </tbody>\n",
       "</table>\n",
       "</div>"
      ],
      "text/plain": [
       "       System Buy Price(GBP/MWh)  Market Index Price (£/MWh)  \\\n",
       "count               17520.000000                17520.000000   \n",
       "mean                   45.523262                   40.033340   \n",
       "std                    16.636713                   10.696275   \n",
       "min                     0.000000                    0.000000   \n",
       "25%                    35.830002                   34.799999   \n",
       "50%                    42.309000                   38.759998   \n",
       "75%                    51.121749                   43.930000   \n",
       "max                   415.420990                  259.200012   \n",
       "\n",
       "       Market Index Volume (MWh)  Settlement Period  National demand (MW)  \\\n",
       "count               17520.000000       17520.000000          17520.000000   \n",
       "mean                  680.929321          24.500000          32303.777344   \n",
       "std                   344.826385          13.853794           7312.124512   \n",
       "min                     0.000000           1.000000          17909.000000   \n",
       "25%                   429.750000          12.750000          26670.000000   \n",
       "50%                   619.250000          24.500000          32342.000000   \n",
       "75%                   859.700012          36.250000          36924.250000   \n",
       "max                  2842.550049          48.000000          79138.000000   \n",
       "\n",
       "       Embbeded wind generation (MW)  Embbeded solar generation (MW)  \\\n",
       "count                   17520.000000                    17520.000000   \n",
       "mean                     1346.252075                      962.318237   \n",
       "std                       854.236328                     1487.473999   \n",
       "min                       138.000000                        0.000000   \n",
       "25%                       652.000000                        0.000000   \n",
       "50%                      1146.000000                       63.000000   \n",
       "75%                      1900.000000                     1480.000000   \n",
       "max                      5634.000000                     7040.000000   \n",
       "\n",
       "       Total system demand (MW)  Wind generation (MW)  Solar generation (MW)  \\\n",
       "count              17520.000000          17520.000000           17520.000000   \n",
       "mean               33463.066406           3621.847168             842.254944   \n",
       "std                 7159.061523           2207.311768            1324.839111   \n",
       "min                19839.000000            172.000000               0.000000   \n",
       "25%                27793.000000           1751.000000               0.000000   \n",
       "50%                33249.500000           3209.500000               1.000000   \n",
       "75%                37860.250000           5348.250000            1308.250000   \n",
       "max                80722.000000           8949.000000            5999.000000   \n",
       "\n",
       "       Hydro generation (MW)  Biomass generation (MW)  \n",
       "count           17520.000000                  17520.0  \n",
       "mean              468.821472                      0.0  \n",
       "std               258.360748                      0.0  \n",
       "min                 0.000000                      0.0  \n",
       "25%               267.000000                      0.0  \n",
       "50%               444.000000                      0.0  \n",
       "75%               662.000000                      0.0  \n",
       "max              1109.000000                      0.0  "
      ]
     },
     "execution_count": 12,
     "metadata": {},
     "output_type": "execute_result"
    }
   ],
   "source": [
    "#Visualizing statistical summary of each variable\n",
    "\n",
    "Table2.describe()"
   ]
  },
  {
   "cell_type": "code",
   "execution_count": 13,
   "metadata": {},
   "outputs": [
    {
     "name": "stdout",
     "output_type": "stream",
     "text": [
      "Epoch 1/20\n",
      "1168/1168 [==============================] - 5s 3ms/step - loss: 328.7855\n",
      "Epoch 2/20\n",
      "1168/1168 [==============================] - 5s 4ms/step - loss: 62.8407\n",
      "Epoch 3/20\n",
      "1168/1168 [==============================] - 8s 7ms/step - loss: 58.2967\n",
      "Epoch 4/20\n",
      "1168/1168 [==============================] - 9s 7ms/step - loss: 56.9146\n",
      "Epoch 5/20\n",
      "1168/1168 [==============================] - 13s 11ms/step - loss: 56.3108\n",
      "Epoch 6/20\n",
      "1168/1168 [==============================] - 7s 6ms/step - loss: 55.7372\n",
      "Epoch 7/20\n",
      "1168/1168 [==============================] - 5s 4ms/step - loss: 55.4656\n",
      "Epoch 8/20\n",
      "1168/1168 [==============================] - 4s 3ms/step - loss: 55.1992\n",
      "Epoch 9/20\n",
      "1168/1168 [==============================] - 7s 6ms/step - loss: 54.9170\n",
      "Epoch 10/20\n",
      "1168/1168 [==============================] - 9s 7ms/step - loss: 54.5412\n",
      "Epoch 11/20\n",
      "1168/1168 [==============================] - 7s 6ms/step - loss: 54.2808\n",
      "Epoch 12/20\n",
      "1168/1168 [==============================] - 7s 6ms/step - loss: 53.8184\n",
      "Epoch 13/20\n",
      "1168/1168 [==============================] - 6s 5ms/step - loss: 53.5802\n",
      "Epoch 14/20\n",
      "1168/1168 [==============================] - 8s 7ms/step - loss: 53.3110\n",
      "Epoch 15/20\n",
      "1168/1168 [==============================] - 5s 4ms/step - loss: 53.0743\n",
      "Epoch 16/20\n",
      "1168/1168 [==============================] - 8s 7ms/step - loss: 52.9691\n",
      "Epoch 17/20\n",
      "1168/1168 [==============================] - 5s 4ms/step - loss: 52.7198\n",
      "Epoch 18/20\n",
      "1168/1168 [==============================] - 4s 4ms/step - loss: 52.4582\n",
      "Epoch 19/20\n",
      "1168/1168 [==============================] - 6s 5ms/step - loss: 52.3446\n",
      "Epoch 20/20\n",
      "1168/1168 [==============================] - 6s 5ms/step - loss: 52.2338\n",
      "Loss: 60.617862701416016\n"
     ]
    }
   ],
   "source": [
    "#Calling additional needed libraries to run the model \n",
    "\n",
    "from keras.models import Sequential\n",
    "from keras.layers import Dense\n",
    "from sklearn.model_selection import train_test_split\n",
    "from sklearn.preprocessing import MinMaxScaler\n",
    "from tensorflow.keras.models import Sequential\n",
    "from tensorflow.keras.layers import Dense\n",
    "\n",
    "# Separating the features and target variable\n",
    "features = Table2[['System Buy Price(GBP/MWh)','Market Index Volume (MWh)','Embbeded wind generation (MW)','Embbeded solar generation (MW)','Total system demand (MW)','Wind generation (MW)','Biomass generation (MW)','Solar generation (MW)','Hydro generation (MW)']]\n",
    "target = Table2['Market Index Price (£/MWh)']\n",
    "\n",
    "# Performing data preprocessing\n",
    "scaler = MinMaxScaler()\n",
    "features_scaled = scaler.fit_transform(features)\n",
    "\n",
    "# Splitting the dataset into training and testing sets\n",
    "X_train, X_test, y_train, y_test = train_test_split(features_scaled, target, test_size=0.2, random_state=42)\n",
    "\n",
    "# Defining the model architecture\n",
    "model = Sequential()\n",
    "model.add(Dense(9, activation='relu', input_dim=X_train.shape[1]))\n",
    "model.add(Dense(8, activation='relu'))\n",
    "model.add(Dense(8, activation='relu'))\n",
    "model.add(Dense(1, activation='linear'))\n",
    "\n",
    "# Compiling the model\n",
    "model.compile(loss='mean_squared_error', optimizer='adam')\n",
    "\n",
    "# Training the model\n",
    "model.fit(X_train, y_train, epochs=20, batch_size=12, verbose=1)\n",
    "\n",
    "# Evaluating the model\n",
    "loss = model.evaluate(X_test, y_test, verbose=0)\n",
    "print(f'Loss: {loss}')"
   ]
  },
  {
   "cell_type": "code",
   "execution_count": 14,
   "metadata": {
    "colab": {
     "base_uri": "https://localhost:8080/"
    },
    "executionInfo": {
     "elapsed": 1093,
     "status": "ok",
     "timestamp": 1690980687498,
     "user": {
      "displayName": "Paulo Da Silva",
      "userId": "03066742735330604402"
     },
     "user_tz": -60
    },
    "id": "jacEVKFMCztp",
    "outputId": "df3c67d0-e36f-46a6-f939-c04610dc6a65"
   },
   "outputs": [
    {
     "name": "stdout",
     "output_type": "stream",
     "text": [
      "110/110 [==============================] - 1s 3ms/step\n"
     ]
    }
   ],
   "source": [
    "# Makeing predictions\n",
    "\n",
    "predictions = model.predict(X_test)"
   ]
  },
  {
   "cell_type": "code",
   "execution_count": 15,
   "metadata": {
    "colab": {
     "base_uri": "https://localhost:8080/"
    },
    "executionInfo": {
     "elapsed": 3,
     "status": "ok",
     "timestamp": 1690980690629,
     "user": {
      "displayName": "Paulo Da Silva",
      "userId": "03066742735330604402"
     },
     "user_tz": -60
    },
    "id": "ta67b_n8DrTo",
    "outputId": "cca0e952-0019-4f9a-9a09-b060db426de6"
   },
   "outputs": [
    {
     "name": "stdout",
     "output_type": "stream",
     "text": [
      "[[39.722862]\n",
      " [46.225212]\n",
      " [43.723083]\n",
      " ...\n",
      " [25.896622]\n",
      " [35.49244 ]\n",
      " [39.273888]]\n"
     ]
    }
   ],
   "source": [
    "#Printing the predicted values to check for irregularities\n",
    "\n",
    "print(predictions)"
   ]
  },
  {
   "cell_type": "code",
   "execution_count": 16,
   "metadata": {
    "colab": {
     "base_uri": "https://localhost:8080/"
    },
    "executionInfo": {
     "elapsed": 5,
     "status": "ok",
     "timestamp": 1690980694748,
     "user": {
      "displayName": "Paulo Da Silva",
      "userId": "03066742735330604402"
     },
     "user_tz": -60
    },
    "id": "MQJpDKjoDrWn",
    "outputId": "f84d8ebe-52c9-4853-ede3-b56a4346d485"
   },
   "outputs": [
    {
     "data": {
      "text/plain": [
       "array([84.76829], dtype=float32)"
      ]
     },
     "execution_count": 16,
     "metadata": {},
     "output_type": "execute_result"
    }
   ],
   "source": [
    "#Checking max of predictions to help set plot range\n",
    "\n",
    "max(predictions)"
   ]
  },
  {
   "cell_type": "code",
   "execution_count": 17,
   "metadata": {},
   "outputs": [],
   "source": [
    "# Transforming the prediction array of 2d to one dimension for plotting\n",
    "\n",
    "predictions1= predictions.reshape(-1)"
   ]
  },
  {
   "cell_type": "code",
   "execution_count": 18,
   "metadata": {
    "colab": {
     "base_uri": "https://localhost:8080/"
    },
    "executionInfo": {
     "elapsed": 4,
     "status": "ok",
     "timestamp": 1690980699389,
     "user": {
      "displayName": "Paulo Da Silva",
      "userId": "03066742735330604402"
     },
     "user_tz": -60
    },
    "id": "7rVyK0BuDrcY",
    "outputId": "17c565da-af55-474d-e887-afdd8c80305a"
   },
   "outputs": [
    {
     "name": "stdout",
     "output_type": "stream",
     "text": [
      "Mean Squared Error (MSE): 60.61785125732422\n",
      "Root Mean Squared Error (RMSE): 7.7857465744018555\n",
      "Mean Absolute Error (MAE): 4.904850006103516\n",
      "R-squared (R2) score: 0.5174089075085715\n"
     ]
    }
   ],
   "source": [
    "#Importing library to calculate evalution metrics\n",
    "from sklearn.metrics import mean_squared_error, mean_absolute_error, r2_score\n",
    "\n",
    "# Calculating evaluation metrics\n",
    "mse = mean_squared_error(y_test, predictions)\n",
    "rmse = np.sqrt(mse)\n",
    "mae = mean_absolute_error(y_test, predictions)\n",
    "r2 = r2_score(y_test, predictions)\n",
    "\n",
    "print(f'Mean Squared Error (MSE): {mse}')\n",
    "print(f'Root Mean Squared Error (RMSE): {rmse}')\n",
    "print(f'Mean Absolute Error (MAE): {mae}')\n",
    "print(f'R-squared (R2) score: {r2}')"
   ]
  },
  {
   "cell_type": "code",
   "execution_count": 19,
   "metadata": {
    "colab": {
     "base_uri": "https://localhost:8080/",
     "height": 504
    },
    "executionInfo": {
     "elapsed": 466,
     "status": "ok",
     "timestamp": 1690980712426,
     "user": {
      "displayName": "Paulo Da Silva",
      "userId": "03066742735330604402"
     },
     "user_tz": -60
    },
    "id": "HrKYAy39Czqr",
    "outputId": "6e826324-463d-4813-a201-dd3cf0ae7c7e"
   },
   "outputs": [
    {
     "data": {
      "image/png": "[encoded data removed]",
      "text/plain": [
       "<Figure size 1000x500 with 1 Axes>"
      ]
     },
     "metadata": {},
     "output_type": "display_data"
    },
    {
     "data": {
      "text/plain": [
       "<Figure size 640x480 with 0 Axes>"
      ]
     },
     "metadata": {},
     "output_type": "display_data"
    }
   ],
   "source": [
    "#Importing library to plot results\n",
    "\n",
    "import matplotlib.pyplot as plt\n",
    "\n",
    "# Plot of predicted vs. actual prices\n",
    "plt.figure(figsize=(10, 5))\n",
    "plt.grid(False)\n",
    "plt.scatter(y_test, predictions,color='black',s=1)\n",
    "plt.xlabel(' Actual electricity prices from 2015 to 2016')\n",
    "plt.ylabel('Predicted electricity Prices')\n",
    "plt.title('Actual vs. Predicted electricity prices between 2015 and 2016')\n",
    "min_val = 0  \n",
    "max_val = 100  \n",
    "plt.xlim(min_val, max_val)\n",
    "plt.ylim(min_val, max_val)\n",
    "\n",
    "plt.show()\n",
    "plt.savefig(\"random.jpg\", facecolor=\"k\")"
   ]
  },
  {
   "cell_type": "code",
   "execution_count": 20,
   "metadata": {
    "colab": {
     "base_uri": "https://localhost:8080/",
     "height": 504
    },
    "executionInfo": {
     "elapsed": 1350,
     "status": "ok",
     "timestamp": 1690980725262,
     "user": {
      "displayName": "Paulo Da Silva",
      "userId": "03066742735330604402"
     },
     "user_tz": -60
    },
    "id": "mSg-ojMVD2be",
    "outputId": "efe1b77a-a03f-4a9f-f240-6ae8263614ea"
   },
   "outputs": [
    {
     "data": {
      "image/png": "[encoded data removed]",
      "text/plain": [
       "<Figure size 1000x500 with 1 Axes>"
      ]
     },
     "metadata": {},
     "output_type": "display_data"
    },
    {
     "data": {
      "text/plain": [
       "<Figure size 640x480 with 0 Axes>"
      ]
     },
     "metadata": {},
     "output_type": "display_data"
    }
   ],
   "source": [
    "#Potting distribution of predition\n",
    "\n",
    "plt.figure(figsize=(10, 5))\n",
    "sn.histplot(predictions1, color='black')\n",
    "plt.title('Distribution Plot of Predicted values from 2015 to 2016')\n",
    "plt.xlabel('Predicted Electricity prices')\n",
    "plt.ylabel('Frequency')\n",
    "plt.xlim(min_val, max_val)\n",
    "min_val = 0  \n",
    "max_val =100 \n",
    "plt.show()\n",
    "plt.savefig('distribution_plot.png')"
   ]
  },
  {
   "cell_type": "code",
   "execution_count": 21,
   "metadata": {
    "colab": {
     "base_uri": "https://localhost:8080/",
     "height": 483
    },
    "executionInfo": {
     "elapsed": 1316,
     "status": "ok",
     "timestamp": 1690980731302,
     "user": {
      "displayName": "Paulo Da Silva",
      "userId": "03066742735330604402"
     },
     "user_tz": -60
    },
    "id": "PXmI9glmD2jd",
    "outputId": "6c2273df-849a-4e4f-f01d-20b19b7573e3"
   },
   "outputs": [
    {
     "data": {
      "image/png": "[encoded data removed]",
      "text/plain": [
       "<Figure size 1000x500 with 1 Axes>"
      ]
     },
     "metadata": {},
     "output_type": "display_data"
    }
   ],
   "source": [
    "#Plotting distribution of actual values\n",
    "\n",
    "plt.figure(figsize=(10, 5))\n",
    "sn.histplot(y_test, color='black')\n",
    "plt.grid(False)\n",
    "min_val = 0  \n",
    "max_val =250 \n",
    "plt.xlim(min_val, max_val)\n",
    "plt.title('Distribution plot of actual electricity prices from 2015 to 2016')\n",
    "plt.xlabel('Actual electricity prices')\n",
    "plt.ylabel('Frequency')\n",
    "plt.savefig('distribution_plot.png')\n",
    "plt.show()"
   ]
  },
  {
   "cell_type": "code",
   "execution_count": 22,
   "metadata": {
    "colab": {
     "base_uri": "https://localhost:8080/"
    },
    "executionInfo": {
     "elapsed": 907,
     "status": "ok",
     "timestamp": 1690980745168,
     "user": {
      "displayName": "Paulo Da Silva",
      "userId": "03066742735330604402"
     },
     "user_tz": -60
    },
    "id": "bjMT6MkXD7rI",
    "outputId": "60c0cfd1-a4aa-45dd-c9ce-8d913488a6e3"
   },
   "outputs": [
    {
     "name": "stdout",
     "output_type": "stream",
     "text": [
      "Residuals:\n"
     ]
    }
   ],
   "source": [
    "# Calculating the residuals\n",
    "residuals =y_test -predictions.flatten()\n",
    "\n",
    "# Displaying the residuals\n",
    "print(\"Residuals:\")"
   ]
  },
  {
   "cell_type": "code",
   "execution_count": 23,
   "metadata": {
    "colab": {
     "base_uri": "https://localhost:8080/"
    },
    "executionInfo": {
     "elapsed": 892,
     "status": "ok",
     "timestamp": 1690980751845,
     "user": {
      "displayName": "Paulo Da Silva",
      "userId": "03066742735330604402"
     },
     "user_tz": -60
    },
    "id": "V1qnENaRD7tz",
    "outputId": "fc606dd2-dddc-42f3-e79b-d5c7d6b7b710"
   },
   "outputs": [
    {
     "name": "stdout",
     "output_type": "stream",
     "text": [
      "Feature 1 Importance: 5.630443096160889\n",
      "Feature 2 Importance: 4.242748260498047\n",
      "Feature 3 Importance: 4.54628849029541\n",
      "Feature 4 Importance: 4.258768081665039\n",
      "Feature 5 Importance: 5.798627853393555\n",
      "Feature 6 Importance: 3.677027702331543\n",
      "Feature 7 Importance: 3.5225861072540283\n",
      "Feature 8 Importance: 4.54400110244751\n",
      "Feature 9 Importance: 4.5234503746032715\n"
     ]
    }
   ],
   "source": [
    "# Getting the weights of the first layer\n",
    "weights_layer1 = model.get_weights()[0]\n",
    "\n",
    "# Calculating feature importance by summing the absolute weights for each feature\n",
    "feature_importance = np.sum(np.abs(weights_layer1), axis=0)\n",
    "\n",
    "# Printting feature importance scores\n",
    "for i, importance in enumerate(feature_importance):\n",
    "    print(f'Feature {i+1} Importance: {importance}')"
   ]
  }
 ],
 "metadata": {
  "accelerator": "GPU",
  "colab": {
   "authorship_tag": "ABX9TyMWH9VRt3g+HnrRG81igG1s",
   "gpuType": "V100",
   "machine_shape": "hm",
   "mount_file_id": "10TeDDkn8Ie8N-OJz1954sLA8L8XuBaQL",
   "provenance": []
  },
  "kernelspec": {
   "display_name": "Python 3 (ipykernel)",
   "language": "python",
   "name": "python3"
  },
  "language_info": {
   "codemirror_mode": {
    "name": "ipython",
    "version": 3
   },
   "file_extension": ".py",
   "mimetype": "text/x-python",
   "name": "python",
   "nbconvert_exporter": "python",
   "pygments_lexer": "ipython3",
   "version": "3.9.17"
  }
 },
 "nbformat": 4,
 "nbformat_minor": 1
}
