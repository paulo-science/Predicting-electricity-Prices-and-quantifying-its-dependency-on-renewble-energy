{
 "cells": [
  {
   "cell_type": "code",
   "execution_count": 1,
   "metadata": {
    "executionInfo": {
     "elapsed": 1677,
     "status": "ok",
     "timestamp": 1690980429852,
     "user": {
      "displayName": "Paulo Da Silva",
      "userId": "03066742735330604402"
     },
     "user_tz": -60
    },
    "id": "VgzmsaKJxCcf"
   },
   "outputs": [],
   "source": [
    "#Importing Libraries needed to run ANN model\n",
    "\n",
    "import numpy as np\n",
    "import pandas as pd\n",
    "import matplotlib.pyplot as plt\n",
    "from sklearn.impute import SimpleImputer\n",
    "from sklearn.preprocessing import minmax_scale, normalize\n",
    "import seaborn as sn\n",
    "import datetime\n",
    "%matplotlib inline"
   ]
  },
  {
   "cell_type": "code",
   "execution_count": 2,
   "metadata": {
    "executionInfo": {
     "elapsed": 2233,
     "status": "ok",
     "timestamp": 1690980434558,
     "user": {
      "displayName": "Paulo Da Silva",
      "userId": "03066742735330604402"
     },
     "user_tz": -60
    },
    "id": "Zz5hJ0m3xMuk"
   },
   "outputs": [],
   "source": [
    "#Importing machine learning library\n",
    "\n",
    "import tensorflow as ts"
   ]
  },
  {
   "cell_type": "code",
   "execution_count": 3,
   "metadata": {
    "executionInfo": {
     "elapsed": 3,
     "status": "ok",
     "timestamp": 1690980436714,
     "user": {
      "displayName": "Paulo Da Silva",
      "userId": "03066742735330604402"
     },
     "user_tz": -60
    },
    "id": "GQllu7aOCzwP"
   },
   "outputs": [],
   "source": [
    "#Importing machine learning library\n",
    "\n",
    "from tensorflow import keras"
   ]
  },
  {
   "cell_type": "code",
   "execution_count": 4,
   "metadata": {
    "executionInfo": {
     "elapsed": 5,
     "status": "ok",
     "timestamp": 1690980439452,
     "user": {
      "displayName": "Paulo Da Silva",
      "userId": "03066742735330604402"
     },
     "user_tz": -60
    },
    "id": "k-K6orWMDF_S"
   },
   "outputs": [],
   "source": [
    "#Creating file path to read file\n",
    "\n",
    "csv_file_path ='Table2014_2023F.csv'"
   ]
  },
  {
   "cell_type": "code",
   "execution_count": 5,
   "metadata": {
    "executionInfo": {
     "elapsed": 1362,
     "status": "ok",
     "timestamp": 1690980443412,
     "user": {
      "displayName": "Paulo Da Silva",
      "userId": "03066742735330604402"
     },
     "user_tz": -60
    },
    "id": "2iMvDSzyDGB1"
   },
   "outputs": [],
   "source": [
    "#Reading the csv file with reduced features and ready for the model and assigning variable name\n",
    "\n",
    "Table=pd.read_csv(csv_file_path)"
   ]
  },
  {
   "cell_type": "code",
   "execution_count": 6,
   "metadata": {
    "colab": {
     "base_uri": "https://localhost:8080/"
    },
    "executionInfo": {
     "elapsed": 4,
     "status": "ok",
     "timestamp": 1690980446270,
     "user": {
      "displayName": "Paulo Da Silva",
      "userId": "03066742735330604402"
     },
     "user_tz": -60
    },
    "id": "E-0EFKPbDGEY",
    "outputId": "cf68fbd4-71f0-4d66-da53-b65846420c68"
   },
   "outputs": [
    {
     "name": "stdout",
     "output_type": "stream",
     "text": [
      "<class 'pandas.core.frame.DataFrame'>\n",
      "RangeIndex: 157338 entries, 0 to 157337\n",
      "Data columns (total 13 columns):\n",
      " #   Column                          Non-Null Count   Dtype  \n",
      "---  ------                          --------------   -----  \n",
      " 0   DATETIME                        157338 non-null  object \n",
      " 1   System Buy Price(GBP/MWh)       157338 non-null  float64\n",
      " 2   Market Index Price (£/MWh)      157338 non-null  float64\n",
      " 3   Market Index Volume (MWh)       157338 non-null  float64\n",
      " 4   Settlement Period               157338 non-null  int64  \n",
      " 5   National demand (MW)            157338 non-null  float64\n",
      " 6   Embbeded wind generation (MW)   157338 non-null  float64\n",
      " 7   Embbeded solar generation (MW)  157338 non-null  float64\n",
      " 8   Total system demand (MW)        157338 non-null  float64\n",
      " 9   Wind generation (MW)            157338 non-null  float64\n",
      " 10  Solar generation (MW)           157338 non-null  float64\n",
      " 11  Hydro generation (MW)           157338 non-null  float64\n",
      " 12  Biomass generation (MW)         157338 non-null  float64\n",
      "dtypes: float64(11), int64(1), object(1)\n",
      "memory usage: 15.6+ MB\n"
     ]
    }
   ],
   "source": [
    "#Checking tablle attributes\n",
    "\n",
    "Table.info()"
   ]
  },
  {
   "cell_type": "code",
   "execution_count": 7,
   "metadata": {
    "executionInfo": {
     "elapsed": 3,
     "status": "ok",
     "timestamp": 1690980485297,
     "user": {
      "displayName": "Paulo Da Silva",
      "userId": "03066742735330604402"
     },
     "user_tz": -60
    },
    "id": "_mnAnUxWDGGu"
   },
   "outputs": [],
   "source": [
    "#Creating a for loop to convert all columns from float64 to float32, to help machine handling computation\n",
    "\n",
    "columns_to_convert=['National demand (MW)','Solar generation (MW)','Embbeded solar generation (MW)','Embbeded wind generation (MW)','Total system demand (MW)','Market Index Volume (MWh)','Market Index Price (£/MWh)','System Buy Price(GBP/MWh)','Wind generation (MW)','Hydro generation (MW)','Biomass generation (MW)']\n",
    "for column in columns_to_convert:\n",
    "  Table[column]=pd.to_numeric(Table[column],errors='coerce').astype('float32')"
   ]
  },
  {
   "cell_type": "code",
   "execution_count": 8,
   "metadata": {
    "colab": {
     "base_uri": "https://localhost:8080/"
    },
    "executionInfo": {
     "elapsed": 395,
     "status": "ok",
     "timestamp": 1690980487929,
     "user": {
      "displayName": "Paulo Da Silva",
      "userId": "03066742735330604402"
     },
     "user_tz": -60
    },
    "id": "EQ__49u9DGJS",
    "outputId": "85a852d1-489b-4851-9152-822c1ba94bd6"
   },
   "outputs": [
    {
     "name": "stdout",
     "output_type": "stream",
     "text": [
      "<class 'pandas.core.frame.DataFrame'>\n",
      "RangeIndex: 157338 entries, 0 to 157337\n",
      "Data columns (total 13 columns):\n",
      " #   Column                          Non-Null Count   Dtype  \n",
      "---  ------                          --------------   -----  \n",
      " 0   DATETIME                        157338 non-null  object \n",
      " 1   System Buy Price(GBP/MWh)       157338 non-null  float32\n",
      " 2   Market Index Price (£/MWh)      157338 non-null  float32\n",
      " 3   Market Index Volume (MWh)       157338 non-null  float32\n",
      " 4   Settlement Period               157338 non-null  int64  \n",
      " 5   National demand (MW)            157338 non-null  float32\n",
      " 6   Embbeded wind generation (MW)   157338 non-null  float32\n",
      " 7   Embbeded solar generation (MW)  157338 non-null  float32\n",
      " 8   Total system demand (MW)        157338 non-null  float32\n",
      " 9   Wind generation (MW)            157338 non-null  float32\n",
      " 10  Solar generation (MW)           157338 non-null  float32\n",
      " 11  Hydro generation (MW)           157338 non-null  float32\n",
      " 12  Biomass generation (MW)         157338 non-null  float32\n",
      "dtypes: float32(11), int64(1), object(1)\n",
      "memory usage: 9.0+ MB\n"
     ]
    }
   ],
   "source": [
    "#Checking if the columns were converted successfully\n",
    "\n",
    "Table.info()"
   ]
  },
  {
   "cell_type": "code",
   "execution_count": 9,
   "metadata": {
    "executionInfo": {
     "elapsed": 3,
     "status": "ok",
     "timestamp": 1690980618160,
     "user": {
      "displayName": "Paulo Da Silva",
      "userId": "03066742735330604402"
     },
     "user_tz": -60
    },
    "id": "kjs6UeHhDGN-"
   },
   "outputs": [],
   "source": [
    "#Choosing time range start and end\n",
    "\n",
    "sd_start= ('2017-01-01 00:00:00')\n",
    "sd_end= ('2018-01-01 23:30:00')"
   ]
  },
  {
   "cell_type": "code",
   "execution_count": 10,
   "metadata": {
    "executionInfo": {
     "elapsed": 3,
     "status": "ok",
     "timestamp": 1690980621599,
     "user": {
      "displayName": "Paulo Da Silva",
      "userId": "03066742735330604402"
     },
     "user_tz": -60
    },
    "id": "_qcY-cIrDGQb"
   },
   "outputs": [],
   "source": [
    "#Selecting data within the time range defined above using the column that has datetime\n",
    "\n",
    "Table2=Table[(Table['DATETIME'] >= sd_start) & (Table['DATETIME']<= sd_end)]\n"
   ]
  },
  {
   "cell_type": "code",
   "execution_count": 11,
   "metadata": {
    "colab": {
     "base_uri": "https://localhost:8080/"
    },
    "executionInfo": {
     "elapsed": 3,
     "status": "ok",
     "timestamp": 1690980633021,
     "user": {
      "displayName": "Paulo Da Silva",
      "userId": "03066742735330604402"
     },
     "user_tz": -60
    },
    "id": "NN9qEIVCDGS_",
    "outputId": "b201aba5-8f26-4e0d-de35-f9cf0c59a496",
    "scrolled": false
   },
   "outputs": [
    {
     "name": "stdout",
     "output_type": "stream",
     "text": [
      "Number of NaN values per column:\n",
      "DATETIME                          0\n",
      "System Buy Price(GBP/MWh)         0\n",
      "Market Index Price (£/MWh)        0\n",
      "Market Index Volume (MWh)         0\n",
      "Settlement Period                 0\n",
      "National demand (MW)              0\n",
      "Embbeded wind generation (MW)     0\n",
      "Embbeded solar generation (MW)    0\n",
      "Total system demand (MW)          0\n",
      "Wind generation (MW)              0\n",
      "Solar generation (MW)             0\n",
      "Hydro generation (MW)             0\n",
      "Biomass generation (MW)           0\n",
      "dtype: int64\n"
     ]
    }
   ],
   "source": [
    "#Checking if there are null values within the data\n",
    "\n",
    "mask=Table2.isnull()\n",
    "num_nan_per_coll= mask.sum()\n",
    "print(\"Number of NaN values per column:\")\n",
    "print(num_nan_per_coll)"
   ]
  },
  {
   "cell_type": "code",
   "execution_count": 12,
   "metadata": {},
   "outputs": [
    {
     "data": {
      "text/html": [
       "<div>\n",
       "<style scoped>\n",
       "    .dataframe tbody tr th:only-of-type {\n",
       "        vertical-align: middle;\n",
       "    }\n",
       "\n",
       "    .dataframe tbody tr th {\n",
       "        vertical-align: top;\n",
       "    }\n",
       "\n",
       "    .dataframe thead th {\n",
       "        text-align: right;\n",
       "    }\n",
       "</style>\n",
       "<table border=\"1\" class=\"dataframe\">\n",
       "  <thead>\n",
       "    <tr style=\"text-align: right;\">\n",
       "      <th></th>\n",
       "      <th>System Buy Price(GBP/MWh)</th>\n",
       "      <th>Market Index Price (£/MWh)</th>\n",
       "      <th>Market Index Volume (MWh)</th>\n",
       "      <th>Settlement Period</th>\n",
       "      <th>National demand (MW)</th>\n",
       "      <th>Embbeded wind generation (MW)</th>\n",
       "      <th>Embbeded solar generation (MW)</th>\n",
       "      <th>Total system demand (MW)</th>\n",
       "      <th>Wind generation (MW)</th>\n",
       "      <th>Solar generation (MW)</th>\n",
       "      <th>Hydro generation (MW)</th>\n",
       "      <th>Biomass generation (MW)</th>\n",
       "    </tr>\n",
       "  </thead>\n",
       "  <tbody>\n",
       "    <tr>\n",
       "      <th>count</th>\n",
       "      <td>17520.000000</td>\n",
       "      <td>17520.000000</td>\n",
       "      <td>17520.000000</td>\n",
       "      <td>17520.000000</td>\n",
       "      <td>17520.000000</td>\n",
       "      <td>17520.000000</td>\n",
       "      <td>17520.000000</td>\n",
       "      <td>17520.000000</td>\n",
       "      <td>17520.000000</td>\n",
       "      <td>17520.000000</td>\n",
       "      <td>17520.000000</td>\n",
       "      <td>17520.000000</td>\n",
       "    </tr>\n",
       "    <tr>\n",
       "      <th>mean</th>\n",
       "      <td>45.320671</td>\n",
       "      <td>44.862625</td>\n",
       "      <td>741.464539</td>\n",
       "      <td>24.500000</td>\n",
       "      <td>30452.746094</td>\n",
       "      <td>1557.884644</td>\n",
       "      <td>1191.104126</td>\n",
       "      <td>31774.443359</td>\n",
       "      <td>5055.068848</td>\n",
       "      <td>1196.457520</td>\n",
       "      <td>451.962830</td>\n",
       "      <td>255.773178</td>\n",
       "    </tr>\n",
       "    <tr>\n",
       "      <th>std</th>\n",
       "      <td>30.875383</td>\n",
       "      <td>14.063569</td>\n",
       "      <td>373.544647</td>\n",
       "      <td>13.853794</td>\n",
       "      <td>7174.356934</td>\n",
       "      <td>831.748352</td>\n",
       "      <td>1819.189575</td>\n",
       "      <td>7228.344727</td>\n",
       "      <td>2732.876709</td>\n",
       "      <td>1842.901978</td>\n",
       "      <td>286.044373</td>\n",
       "      <td>600.777344</td>\n",
       "    </tr>\n",
       "    <tr>\n",
       "      <th>min</th>\n",
       "      <td>0.000000</td>\n",
       "      <td>0.000000</td>\n",
       "      <td>0.000000</td>\n",
       "      <td>1.000000</td>\n",
       "      <td>16574.000000</td>\n",
       "      <td>210.000000</td>\n",
       "      <td>0.000000</td>\n",
       "      <td>18497.000000</td>\n",
       "      <td>456.000000</td>\n",
       "      <td>0.000000</td>\n",
       "      <td>0.000000</td>\n",
       "      <td>0.000000</td>\n",
       "    </tr>\n",
       "    <tr>\n",
       "      <th>25%</th>\n",
       "      <td>29.577749</td>\n",
       "      <td>36.840000</td>\n",
       "      <td>464.000000</td>\n",
       "      <td>12.750000</td>\n",
       "      <td>24924.000000</td>\n",
       "      <td>885.750000</td>\n",
       "      <td>0.000000</td>\n",
       "      <td>26225.750000</td>\n",
       "      <td>2840.750000</td>\n",
       "      <td>0.000000</td>\n",
       "      <td>217.000000</td>\n",
       "      <td>0.000000</td>\n",
       "    </tr>\n",
       "    <tr>\n",
       "      <th>50%</th>\n",
       "      <td>37.647001</td>\n",
       "      <td>43.000000</td>\n",
       "      <td>676.450012</td>\n",
       "      <td>24.500000</td>\n",
       "      <td>29933.000000</td>\n",
       "      <td>1430.000000</td>\n",
       "      <td>22.000000</td>\n",
       "      <td>30994.000000</td>\n",
       "      <td>4683.000000</td>\n",
       "      <td>3.000000</td>\n",
       "      <td>407.000000</td>\n",
       "      <td>0.000000</td>\n",
       "    </tr>\n",
       "    <tr>\n",
       "      <th>75%</th>\n",
       "      <td>57.002000</td>\n",
       "      <td>50.250000</td>\n",
       "      <td>954.412521</td>\n",
       "      <td>36.250000</td>\n",
       "      <td>34820.250000</td>\n",
       "      <td>2107.000000</td>\n",
       "      <td>1950.000000</td>\n",
       "      <td>35920.750000</td>\n",
       "      <td>7115.000000</td>\n",
       "      <td>1965.000000</td>\n",
       "      <td>637.000000</td>\n",
       "      <td>0.000000</td>\n",
       "    </tr>\n",
       "    <tr>\n",
       "      <th>max</th>\n",
       "      <td>1509.800049</td>\n",
       "      <td>388.369995</td>\n",
       "      <td>3662.649902</td>\n",
       "      <td>48.000000</td>\n",
       "      <td>74020.000000</td>\n",
       "      <td>4537.000000</td>\n",
       "      <td>12480.000000</td>\n",
       "      <td>75071.000000</td>\n",
       "      <td>12333.000000</td>\n",
       "      <td>9121.000000</td>\n",
       "      <td>1403.000000</td>\n",
       "      <td>2079.000000</td>\n",
       "    </tr>\n",
       "  </tbody>\n",
       "</table>\n",
       "</div>"
      ],
      "text/plain": [
       "       System Buy Price(GBP/MWh)  Market Index Price (£/MWh)  \\\n",
       "count               17520.000000                17520.000000   \n",
       "mean                   45.320671                   44.862625   \n",
       "std                    30.875383                   14.063569   \n",
       "min                     0.000000                    0.000000   \n",
       "25%                    29.577749                   36.840000   \n",
       "50%                    37.647001                   43.000000   \n",
       "75%                    57.002000                   50.250000   \n",
       "max                  1509.800049                  388.369995   \n",
       "\n",
       "       Market Index Volume (MWh)  Settlement Period  National demand (MW)  \\\n",
       "count               17520.000000       17520.000000          17520.000000   \n",
       "mean                  741.464539          24.500000          30452.746094   \n",
       "std                   373.544647          13.853794           7174.356934   \n",
       "min                     0.000000           1.000000          16574.000000   \n",
       "25%                   464.000000          12.750000          24924.000000   \n",
       "50%                   676.450012          24.500000          29933.000000   \n",
       "75%                   954.412521          36.250000          34820.250000   \n",
       "max                  3662.649902          48.000000          74020.000000   \n",
       "\n",
       "       Embbeded wind generation (MW)  Embbeded solar generation (MW)  \\\n",
       "count                   17520.000000                    17520.000000   \n",
       "mean                     1557.884644                     1191.104126   \n",
       "std                       831.748352                     1819.189575   \n",
       "min                       210.000000                        0.000000   \n",
       "25%                       885.750000                        0.000000   \n",
       "50%                      1430.000000                       22.000000   \n",
       "75%                      2107.000000                     1950.000000   \n",
       "max                      4537.000000                    12480.000000   \n",
       "\n",
       "       Total system demand (MW)  Wind generation (MW)  Solar generation (MW)  \\\n",
       "count              17520.000000          17520.000000           17520.000000   \n",
       "mean               31774.443359           5055.068848            1196.457520   \n",
       "std                 7228.344727           2732.876709            1842.901978   \n",
       "min                18497.000000            456.000000               0.000000   \n",
       "25%                26225.750000           2840.750000               0.000000   \n",
       "50%                30994.000000           4683.000000               3.000000   \n",
       "75%                35920.750000           7115.000000            1965.000000   \n",
       "max                75071.000000          12333.000000            9121.000000   \n",
       "\n",
       "       Hydro generation (MW)  Biomass generation (MW)  \n",
       "count           17520.000000             17520.000000  \n",
       "mean              451.962830               255.773178  \n",
       "std               286.044373               600.777344  \n",
       "min                 0.000000                 0.000000  \n",
       "25%               217.000000                 0.000000  \n",
       "50%               407.000000                 0.000000  \n",
       "75%               637.000000                 0.000000  \n",
       "max              1403.000000              2079.000000  "
      ]
     },
     "execution_count": 12,
     "metadata": {},
     "output_type": "execute_result"
    }
   ],
   "source": [
    "#Visualizing statistical summary of each variable\n",
    "\n",
    "Table2.describe()"
   ]
  },
  {
   "cell_type": "code",
   "execution_count": 13,
   "metadata": {
    "colab": {
     "base_uri": "https://localhost:8080/"
    },
    "executionInfo": {
     "elapsed": 20602,
     "status": "ok",
     "timestamp": 1690980677982,
     "user": {
      "displayName": "Paulo Da Silva",
      "userId": "03066742735330604402"
     },
     "user_tz": -60
    },
    "id": "Ii9qmtzUDGVT",
    "outputId": "e1092dff-0222-4a39-e2c1-e22f17f6887d"
   },
   "outputs": [
    {
     "name": "stdout",
     "output_type": "stream",
     "text": [
      "Epoch 1/20\n",
      "1168/1168 [==============================] - 4s 3ms/step - loss: 556.8406\n",
      "Epoch 2/20\n",
      "1168/1168 [==============================] - 3s 2ms/step - loss: 125.7874\n",
      "Epoch 3/20\n",
      "1168/1168 [==============================] - 3s 2ms/step - loss: 118.5306\n",
      "Epoch 4/20\n",
      "1168/1168 [==============================] - 3s 3ms/step - loss: 116.1935\n",
      "Epoch 5/20\n",
      "1168/1168 [==============================] - 3s 3ms/step - loss: 115.3325\n",
      "Epoch 6/20\n",
      "1168/1168 [==============================] - 3s 3ms/step - loss: 114.8226\n",
      "Epoch 7/20\n",
      "1168/1168 [==============================] - 3s 2ms/step - loss: 114.5459\n",
      "Epoch 8/20\n",
      "1168/1168 [==============================] - 3s 2ms/step - loss: 114.6148\n",
      "Epoch 9/20\n",
      "1168/1168 [==============================] - 4s 4ms/step - loss: 114.3806\n",
      "Epoch 10/20\n",
      "1168/1168 [==============================] - 4s 4ms/step - loss: 114.3441\n",
      "Epoch 11/20\n",
      "1168/1168 [==============================] - 3s 3ms/step - loss: 114.1077\n",
      "Epoch 12/20\n",
      "1168/1168 [==============================] - 3s 3ms/step - loss: 114.1696\n",
      "Epoch 13/20\n",
      "1168/1168 [==============================] - 5s 5ms/step - loss: 114.0591\n",
      "Epoch 14/20\n",
      "1168/1168 [==============================] - 6s 5ms/step - loss: 114.0467\n",
      "Epoch 15/20\n",
      "1168/1168 [==============================] - 4s 3ms/step - loss: 113.8746\n",
      "Epoch 16/20\n",
      "1168/1168 [==============================] - 6s 5ms/step - loss: 113.8726\n",
      "Epoch 17/20\n",
      "1168/1168 [==============================] - 7s 6ms/step - loss: 113.7695\n",
      "Epoch 18/20\n",
      "1168/1168 [==============================] - 5s 4ms/step - loss: 113.6427\n",
      "Epoch 19/20\n",
      "1168/1168 [==============================] - 7s 6ms/step - loss: 113.5354\n",
      "Epoch 20/20\n",
      "1168/1168 [==============================] - 5s 5ms/step - loss: 113.5529\n",
      "Loss: 82.5658950805664\n"
     ]
    }
   ],
   "source": [
    "#Calling additional needed libraries to run the model \n",
    "\n",
    "from keras.models import Sequential\n",
    "from keras.layers import Dense\n",
    "from sklearn.model_selection import train_test_split\n",
    "from sklearn.preprocessing import MinMaxScaler\n",
    "from tensorflow.keras.models import Sequential\n",
    "from tensorflow.keras.layers import Dense\n",
    "\n",
    "# Separating the features and target variable\n",
    "features = Table2[['System Buy Price(GBP/MWh)','Market Index Volume (MWh)','Embbeded wind generation (MW)','Embbeded solar generation (MW)','Total system demand (MW)','Wind generation (MW)','Biomass generation (MW)','Solar generation (MW)','Hydro generation (MW)']]\n",
    "target = Table2['Market Index Price (£/MWh)']\n",
    "\n",
    "# Performing data preprocessing\n",
    "scaler = MinMaxScaler()\n",
    "features_scaled = scaler.fit_transform(features)\n",
    "\n",
    "# Splitting the dataset into training and testing sets\n",
    "X_train, X_test, y_train, y_test = train_test_split(features_scaled, target, test_size=0.2, random_state=42)\n",
    "\n",
    "# Defining the model architecture\n",
    "model = Sequential()\n",
    "model.add(Dense(9, activation='relu', input_dim=X_train.shape[1]))\n",
    "model.add(Dense(8, activation='relu'))\n",
    "model.add(Dense(8, activation='relu'))\n",
    "model.add(Dense(1, activation='linear'))\n",
    "\n",
    "# Compiling the model\n",
    "model.compile(loss='mean_squared_error', optimizer='adam')\n",
    "\n",
    "# Training the model\n",
    "model.fit(X_train, y_train, epochs=20, batch_size=12, verbose=1)\n",
    "\n",
    "# Evaluating the model\n",
    "loss = model.evaluate(X_test, y_test, verbose=0)\n",
    "print(f'Loss: {loss}')"
   ]
  },
  {
   "cell_type": "code",
   "execution_count": 14,
   "metadata": {
    "colab": {
     "base_uri": "https://localhost:8080/"
    },
    "executionInfo": {
     "elapsed": 1093,
     "status": "ok",
     "timestamp": 1690980687498,
     "user": {
      "displayName": "Paulo Da Silva",
      "userId": "03066742735330604402"
     },
     "user_tz": -60
    },
    "id": "jacEVKFMCztp",
    "outputId": "df3c67d0-e36f-46a6-f939-c04610dc6a65"
   },
   "outputs": [
    {
     "name": "stdout",
     "output_type": "stream",
     "text": [
      "110/110 [==============================] - 1s 4ms/step\n"
     ]
    }
   ],
   "source": [
    "# Making predictions\n",
    "\n",
    "predictions = model.predict(X_test)"
   ]
  },
  {
   "cell_type": "code",
   "execution_count": 15,
   "metadata": {
    "colab": {
     "base_uri": "https://localhost:8080/"
    },
    "executionInfo": {
     "elapsed": 3,
     "status": "ok",
     "timestamp": 1690980690629,
     "user": {
      "displayName": "Paulo Da Silva",
      "userId": "03066742735330604402"
     },
     "user_tz": -60
    },
    "id": "ta67b_n8DrTo",
    "outputId": "cca0e952-0019-4f9a-9a09-b060db426de6"
   },
   "outputs": [
    {
     "name": "stdout",
     "output_type": "stream",
     "text": [
      "[[43.6827  ]\n",
      " [49.395153]\n",
      " [53.315357]\n",
      " ...\n",
      " [51.432938]\n",
      " [37.024265]\n",
      " [57.645897]]\n"
     ]
    }
   ],
   "source": [
    "#Printing the predicted values to check for irregularities\n",
    "\n",
    "print(predictions)"
   ]
  },
  {
   "cell_type": "code",
   "execution_count": 16,
   "metadata": {
    "colab": {
     "base_uri": "https://localhost:8080/"
    },
    "executionInfo": {
     "elapsed": 5,
     "status": "ok",
     "timestamp": 1690980694748,
     "user": {
      "displayName": "Paulo Da Silva",
      "userId": "03066742735330604402"
     },
     "user_tz": -60
    },
    "id": "MQJpDKjoDrWn",
    "outputId": "f84d8ebe-52c9-4853-ede3-b56a4346d485"
   },
   "outputs": [
    {
     "data": {
      "text/plain": [
       "array([87.85829], dtype=float32)"
      ]
     },
     "execution_count": 16,
     "metadata": {},
     "output_type": "execute_result"
    }
   ],
   "source": [
    "#Checking max of predictions to help set plot range\n",
    "\n",
    "max(predictions)"
   ]
  },
  {
   "cell_type": "code",
   "execution_count": 17,
   "metadata": {},
   "outputs": [],
   "source": [
    "#Transforming the prediction array of 2d to one dimension for plotting\n",
    "\n",
    "predictions1= predictions.reshape(-1)"
   ]
  },
  {
   "cell_type": "code",
   "execution_count": 18,
   "metadata": {
    "colab": {
     "base_uri": "https://localhost:8080/"
    },
    "executionInfo": {
     "elapsed": 4,
     "status": "ok",
     "timestamp": 1690980699389,
     "user": {
      "displayName": "Paulo Da Silva",
      "userId": "03066742735330604402"
     },
     "user_tz": -60
    },
    "id": "7rVyK0BuDrcY",
    "outputId": "17c565da-af55-474d-e887-afdd8c80305a"
   },
   "outputs": [
    {
     "name": "stdout",
     "output_type": "stream",
     "text": [
      "Mean Squared Error (MSE): 82.56591033935547\n",
      "Root Mean Squared Error (RMSE): 9.086578369140625\n",
      "Mean Absolute Error (MAE): 6.070453643798828\n",
      "R-squared (R2) score: 0.5222886251849663\n"
     ]
    }
   ],
   "source": [
    "#Importing library to calculate evalution metrics\n",
    "from sklearn.metrics import mean_squared_error, mean_absolute_error, r2_score\n",
    "\n",
    "# Calculating evaluation metrics\n",
    "mse = mean_squared_error(y_test, predictions)\n",
    "rmse = np.sqrt(mse)\n",
    "mae = mean_absolute_error(y_test, predictions)\n",
    "r2 = r2_score(y_test, predictions)\n",
    "\n",
    "print(f'Mean Squared Error (MSE): {mse}')\n",
    "print(f'Root Mean Squared Error (RMSE): {rmse}')\n",
    "print(f'Mean Absolute Error (MAE): {mae}')\n",
    "print(f'R-squared (R2) score: {r2}')"
   ]
  },
  {
   "cell_type": "code",
   "execution_count": 19,
   "metadata": {
    "colab": {
     "base_uri": "https://localhost:8080/",
     "height": 504
    },
    "executionInfo": {
     "elapsed": 466,
     "status": "ok",
     "timestamp": 1690980712426,
     "user": {
      "displayName": "Paulo Da Silva",
      "userId": "03066742735330604402"
     },
     "user_tz": -60
    },
    "id": "HrKYAy39Czqr",
    "outputId": "6e826324-463d-4813-a201-dd3cf0ae7c7e"
   },
   "outputs": [
    {
     "data": {
      "image/png": "[encoded data removed]",
      "text/plain": [
       "<Figure size 1000x500 with 1 Axes>"
      ]
     },
     "metadata": {},
     "output_type": "display_data"
    },
    {
     "data": {
      "text/plain": [
       "<Figure size 640x480 with 0 Axes>"
      ]
     },
     "metadata": {},
     "output_type": "display_data"
    }
   ],
   "source": [
    "#Importing library to plot results\n",
    "import matplotlib.pyplot as plt\n",
    "\n",
    "# Plot of predicted vs. actual prices\n",
    "plt.figure(figsize=(10, 5))\n",
    "plt.grid(False)\n",
    "plt.scatter(y_test, predictions,color='black',s=1)\n",
    "plt.xlabel(' Actual electricity prices from 2017 to 2018')\n",
    "plt.ylabel('Predicted electricity Prices')\n",
    "plt.title('Actual vs. Predicted electricity prices between 2017 and 2018')\n",
    "min_val = 0  \n",
    "max_val = 100  \n",
    "plt.xlim(min_val, max_val)\n",
    "plt.ylim(min_val, max_val)\n",
    "\n",
    "plt.show()\n",
    "plt.savefig(\"random.jpg\", facecolor=\"k\")"
   ]
  },
  {
   "cell_type": "code",
   "execution_count": 25,
   "metadata": {
    "colab": {
     "base_uri": "https://localhost:8080/",
     "height": 504
    },
    "executionInfo": {
     "elapsed": 1350,
     "status": "ok",
     "timestamp": 1690980725262,
     "user": {
      "displayName": "Paulo Da Silva",
      "userId": "03066742735330604402"
     },
     "user_tz": -60
    },
    "id": "mSg-ojMVD2be",
    "outputId": "efe1b77a-a03f-4a9f-f240-6ae8263614ea"
   },
   "outputs": [
    {
     "data": {
      "image/png": "[encoded data removed]",
      "text/plain": [
       "<Figure size 1000x500 with 1 Axes>"
      ]
     },
     "metadata": {},
     "output_type": "display_data"
    },
    {
     "data": {
      "text/plain": [
       "<Figure size 640x480 with 0 Axes>"
      ]
     },
     "metadata": {},
     "output_type": "display_data"
    }
   ],
   "source": [
    "#Potting distribution of predition\n",
    "\n",
    "plt.figure(figsize=(10, 5))\n",
    "sn.histplot(predictions1, color='black')\n",
    "plt.title('Distribution Plot of Predicted values from 2017 to 2018')\n",
    "plt.xlabel('Predicted Electricity prices')\n",
    "plt.ylabel('Frequency')\n",
    "plt.xlim(min_val, max_val)\n",
    "min_val = 0 \n",
    "max_val =100 \n",
    "plt.show()\n",
    "plt.savefig('distribution_plot.png')"
   ]
  },
  {
   "cell_type": "code",
   "execution_count": 26,
   "metadata": {
    "colab": {
     "base_uri": "https://localhost:8080/",
     "height": 483
    },
    "executionInfo": {
     "elapsed": 1316,
     "status": "ok",
     "timestamp": 1690980731302,
     "user": {
      "displayName": "Paulo Da Silva",
      "userId": "03066742735330604402"
     },
     "user_tz": -60
    },
    "id": "PXmI9glmD2jd",
    "outputId": "6c2273df-849a-4e4f-f01d-20b19b7573e3"
   },
   "outputs": [
    {
     "data": {
      "image/png": "[encoded data removed]",
      "text/plain": [
       "<Figure size 1000x500 with 1 Axes>"
      ]
     },
     "metadata": {},
     "output_type": "display_data"
    }
   ],
   "source": [
    "#Plotting distribution of actual values\n",
    "\n",
    "plt.figure(figsize=(10, 5))\n",
    "sn.histplot(y_test, color='black')\n",
    "plt.grid(False)\n",
    "min_val = 0  \n",
    "max_val =100\n",
    "plt.xlim(min_val, max_val)\n",
    "plt.title('Distribution plot of actual electricity prices from 2017 to 2018')\n",
    "plt.xlabel('Actual electricity prices')\n",
    "plt.ylabel('Frequency')\n",
    "plt.savefig('distribution_plot.png')\n",
    "plt.show()"
   ]
  },
  {
   "cell_type": "code",
   "execution_count": 22,
   "metadata": {
    "colab": {
     "base_uri": "https://localhost:8080/"
    },
    "executionInfo": {
     "elapsed": 907,
     "status": "ok",
     "timestamp": 1690980745168,
     "user": {
      "displayName": "Paulo Da Silva",
      "userId": "03066742735330604402"
     },
     "user_tz": -60
    },
    "id": "bjMT6MkXD7rI",
    "outputId": "60c0cfd1-a4aa-45dd-c9ce-8d913488a6e3"
   },
   "outputs": [
    {
     "name": "stdout",
     "output_type": "stream",
     "text": [
      "Residuals:\n"
     ]
    }
   ],
   "source": [
    "# Calculating the residuals\n",
    "residuals =y_test -predictions.flatten()\n",
    "\n",
    "# Display the residuals\n",
    "print(\"Residuals:\")"
   ]
  },
  {
   "cell_type": "code",
   "execution_count": 23,
   "metadata": {
    "colab": {
     "base_uri": "https://localhost:8080/"
    },
    "executionInfo": {
     "elapsed": 892,
     "status": "ok",
     "timestamp": 1690980751845,
     "user": {
      "displayName": "Paulo Da Silva",
      "userId": "03066742735330604402"
     },
     "user_tz": -60
    },
    "id": "V1qnENaRD7tz",
    "outputId": "fc606dd2-dddc-42f3-e79b-d5c7d6b7b710"
   },
   "outputs": [
    {
     "name": "stdout",
     "output_type": "stream",
     "text": [
      "Feature 1 Importance: 1.8883639574050903\n",
      "Feature 2 Importance: 2.829792022705078\n",
      "Feature 3 Importance: 5.320296287536621\n",
      "Feature 4 Importance: 8.168241500854492\n",
      "Feature 5 Importance: 5.224644660949707\n",
      "Feature 6 Importance: 5.73858118057251\n",
      "Feature 7 Importance: 4.436168193817139\n",
      "Feature 8 Importance: 5.402435302734375\n",
      "Feature 9 Importance: 4.445977210998535\n"
     ]
    }
   ],
   "source": [
    "# Getting the weights of the first layer\n",
    "weights_layer1 = model.get_weights()[0]\n",
    "\n",
    "# Calculating feature importance by summing the absolute weights for each feature\n",
    "feature_importance = np.sum(np.abs(weights_layer1), axis=0)\n",
    "\n",
    "# Printong feature importance scores\n",
    "for i, importance in enumerate(feature_importance):\n",
    "    print(f'Feature {i+1} Importance: {importance}')"
   ]
  }
 ],
 "metadata": {
  "accelerator": "GPU",
  "colab": {
   "authorship_tag": "ABX9TyMWH9VRt3g+HnrRG81igG1s",
   "gpuType": "V100",
   "machine_shape": "hm",
   "mount_file_id": "10TeDDkn8Ie8N-OJz1954sLA8L8XuBaQL",
   "provenance": []
  },
  "kernelspec": {
   "display_name": "Python 3 (ipykernel)",
   "language": "python",
   "name": "python3"
  },
  "language_info": {
   "codemirror_mode": {
    "name": "ipython",
    "version": 3
   },
   "file_extension": ".py",
   "mimetype": "text/x-python",
   "name": "python",
   "nbconvert_exporter": "python",
   "pygments_lexer": "ipython3",
   "version": "3.9.17"
  }
 },
 "nbformat": 4,
 "nbformat_minor": 1
}
